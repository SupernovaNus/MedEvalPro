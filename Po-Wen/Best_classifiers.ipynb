{
 "cells": [
  {
   "cell_type": "code",
   "execution_count": 1,
   "id": "88db0124",
   "metadata": {},
   "outputs": [],
   "source": [
    "import numpy as np\n",
    "import pandas as pd\n",
    "\n",
    "import seaborn as sns\n",
    "\n",
    "import warnings\n",
    "import os\n",
    "warnings.filterwarnings('ignore')"
   ]
  },
  {
   "cell_type": "code",
   "execution_count": 2,
   "id": "a9d1afe7",
   "metadata": {},
   "outputs": [],
   "source": [
    "# %config InlineBackend.figure_format = 'retina'\n",
    "import matplotlib.pyplot as plt\n",
    "import matplotlib\n",
    "from matplotlib import rc\n",
    "from matplotlib.ticker import ScalarFormatter, AutoMinorLocator, LogLocator\n",
    "from IPython.display import display as op"
   ]
  },
  {
   "cell_type": "code",
   "execution_count": 3,
   "id": "61e9f05a",
   "metadata": {},
   "outputs": [],
   "source": [
    "data_path = './CoverMyMeds_data/'"
   ]
  },
  {
   "cell_type": "markdown",
   "id": "81d79b57",
   "metadata": {},
   "source": [
    "## Load the data"
   ]
  },
  {
   "cell_type": "code",
   "execution_count": 4,
   "id": "9444be5f",
   "metadata": {},
   "outputs": [],
   "source": [
    "## Bridge table\n",
    "df_bridge = pd.read_csv(data_path + 'bridge.csv')\n",
    "\n",
    "## All date-level information\n",
    "df_date = pd.read_csv(data_path + 'dim_date.csv')\n",
    "\n",
    "## All rejected (PA) claim\n",
    "df_pa = pd.read_csv(data_path + 'dim_pa.csv')\n",
    "\n",
    "## All claims\n",
    "df_claims = pd.read_csv(data_path + 'dim_claims.csv')"
   ]
  },
  {
   "cell_type": "markdown",
   "id": "2325ae9b",
   "metadata": {},
   "source": [
    "## Merge two dataframes"
   ]
  },
  {
   "cell_type": "code",
   "execution_count": 5,
   "id": "a4ff826a",
   "metadata": {},
   "outputs": [
    {
     "name": "stdout",
     "output_type": "stream",
     "text": [
      "---------------------------------------\n",
      "Bridge information + All claims\n"
     ]
    },
    {
     "data": {
      "text/html": [
       "<div>\n",
       "<style scoped>\n",
       "    .dataframe tbody tr th:only-of-type {\n",
       "        vertical-align: middle;\n",
       "    }\n",
       "\n",
       "    .dataframe tbody tr th {\n",
       "        vertical-align: top;\n",
       "    }\n",
       "\n",
       "    .dataframe thead th {\n",
       "        text-align: right;\n",
       "    }\n",
       "</style>\n",
       "<table border=\"1\" class=\"dataframe\">\n",
       "  <thead>\n",
       "    <tr style=\"text-align: right;\">\n",
       "      <th></th>\n",
       "      <th>dim_claim_id</th>\n",
       "      <th>dim_pa_id</th>\n",
       "      <th>dim_date_id</th>\n",
       "      <th>bin</th>\n",
       "      <th>drug</th>\n",
       "      <th>reject_code</th>\n",
       "      <th>pharmacy_claim_approved</th>\n",
       "    </tr>\n",
       "  </thead>\n",
       "  <tbody>\n",
       "    <tr>\n",
       "      <th>0</th>\n",
       "      <td>1</td>\n",
       "      <td>1.0</td>\n",
       "      <td>1</td>\n",
       "      <td>417380</td>\n",
       "      <td>A</td>\n",
       "      <td>75.0</td>\n",
       "      <td>0</td>\n",
       "    </tr>\n",
       "    <tr>\n",
       "      <th>1</th>\n",
       "      <td>2</td>\n",
       "      <td>NaN</td>\n",
       "      <td>1</td>\n",
       "      <td>999001</td>\n",
       "      <td>A</td>\n",
       "      <td>NaN</td>\n",
       "      <td>1</td>\n",
       "    </tr>\n",
       "    <tr>\n",
       "      <th>2</th>\n",
       "      <td>3</td>\n",
       "      <td>2.0</td>\n",
       "      <td>1</td>\n",
       "      <td>417740</td>\n",
       "      <td>A</td>\n",
       "      <td>76.0</td>\n",
       "      <td>0</td>\n",
       "    </tr>\n",
       "    <tr>\n",
       "      <th>3</th>\n",
       "      <td>4</td>\n",
       "      <td>NaN</td>\n",
       "      <td>1</td>\n",
       "      <td>999001</td>\n",
       "      <td>A</td>\n",
       "      <td>NaN</td>\n",
       "      <td>1</td>\n",
       "    </tr>\n",
       "    <tr>\n",
       "      <th>4</th>\n",
       "      <td>5</td>\n",
       "      <td>NaN</td>\n",
       "      <td>1</td>\n",
       "      <td>417740</td>\n",
       "      <td>A</td>\n",
       "      <td>NaN</td>\n",
       "      <td>1</td>\n",
       "    </tr>\n",
       "    <tr>\n",
       "      <th>...</th>\n",
       "      <td>...</td>\n",
       "      <td>...</td>\n",
       "      <td>...</td>\n",
       "      <td>...</td>\n",
       "      <td>...</td>\n",
       "      <td>...</td>\n",
       "      <td>...</td>\n",
       "    </tr>\n",
       "    <tr>\n",
       "      <th>1335571</th>\n",
       "      <td>1335572</td>\n",
       "      <td>555950.0</td>\n",
       "      <td>1095</td>\n",
       "      <td>417740</td>\n",
       "      <td>C</td>\n",
       "      <td>75.0</td>\n",
       "      <td>0</td>\n",
       "    </tr>\n",
       "    <tr>\n",
       "      <th>1335572</th>\n",
       "      <td>1335573</td>\n",
       "      <td>NaN</td>\n",
       "      <td>1095</td>\n",
       "      <td>999001</td>\n",
       "      <td>C</td>\n",
       "      <td>NaN</td>\n",
       "      <td>1</td>\n",
       "    </tr>\n",
       "    <tr>\n",
       "      <th>1335573</th>\n",
       "      <td>1335574</td>\n",
       "      <td>555951.0</td>\n",
       "      <td>1095</td>\n",
       "      <td>417380</td>\n",
       "      <td>C</td>\n",
       "      <td>70.0</td>\n",
       "      <td>0</td>\n",
       "    </tr>\n",
       "    <tr>\n",
       "      <th>1335574</th>\n",
       "      <td>1335575</td>\n",
       "      <td>NaN</td>\n",
       "      <td>1095</td>\n",
       "      <td>999001</td>\n",
       "      <td>C</td>\n",
       "      <td>NaN</td>\n",
       "      <td>1</td>\n",
       "    </tr>\n",
       "    <tr>\n",
       "      <th>1335575</th>\n",
       "      <td>1335576</td>\n",
       "      <td>NaN</td>\n",
       "      <td>1095</td>\n",
       "      <td>999001</td>\n",
       "      <td>C</td>\n",
       "      <td>NaN</td>\n",
       "      <td>1</td>\n",
       "    </tr>\n",
       "  </tbody>\n",
       "</table>\n",
       "<p>1335576 rows × 7 columns</p>\n",
       "</div>"
      ],
      "text/plain": [
       "         dim_claim_id  dim_pa_id  dim_date_id     bin drug  reject_code  \\\n",
       "0                   1        1.0            1  417380    A         75.0   \n",
       "1                   2        NaN            1  999001    A          NaN   \n",
       "2                   3        2.0            1  417740    A         76.0   \n",
       "3                   4        NaN            1  999001    A          NaN   \n",
       "4                   5        NaN            1  417740    A          NaN   \n",
       "...               ...        ...          ...     ...  ...          ...   \n",
       "1335571       1335572   555950.0         1095  417740    C         75.0   \n",
       "1335572       1335573        NaN         1095  999001    C          NaN   \n",
       "1335573       1335574   555951.0         1095  417380    C         70.0   \n",
       "1335574       1335575        NaN         1095  999001    C          NaN   \n",
       "1335575       1335576        NaN         1095  999001    C          NaN   \n",
       "\n",
       "         pharmacy_claim_approved  \n",
       "0                              0  \n",
       "1                              1  \n",
       "2                              0  \n",
       "3                              1  \n",
       "4                              1  \n",
       "...                          ...  \n",
       "1335571                        0  \n",
       "1335572                        1  \n",
       "1335573                        0  \n",
       "1335574                        1  \n",
       "1335575                        1  \n",
       "\n",
       "[1335576 rows x 7 columns]"
      ]
     },
     "metadata": {},
     "output_type": "display_data"
    }
   ],
   "source": [
    "## pd.merge will only retain the intersections of dataframes (no duplicated information)\n",
    "df_bridge_claims = pd.merge(df_bridge, df_claims)\n",
    "\n",
    "print('---------------------------------------\\n' + 'Bridge information + All claims')\n",
    "op(df_bridge_claims)"
   ]
  },
  {
   "cell_type": "code",
   "execution_count": null,
   "id": "2ff3bfdf",
   "metadata": {},
   "outputs": [],
   "source": []
  },
  {
   "cell_type": "code",
   "execution_count": null,
   "id": "325f85c8",
   "metadata": {},
   "outputs": [],
   "source": []
  },
  {
   "cell_type": "markdown",
   "id": "17475339",
   "metadata": {},
   "source": [
    "# All information for rejected (PA) claims"
   ]
  },
  {
   "cell_type": "code",
   "execution_count": 6,
   "id": "056ba102",
   "metadata": {},
   "outputs": [
    {
     "data": {
      "text/html": [
       "<div>\n",
       "<style scoped>\n",
       "    .dataframe tbody tr th:only-of-type {\n",
       "        vertical-align: middle;\n",
       "    }\n",
       "\n",
       "    .dataframe tbody tr th {\n",
       "        vertical-align: top;\n",
       "    }\n",
       "\n",
       "    .dataframe thead th {\n",
       "        text-align: right;\n",
       "    }\n",
       "</style>\n",
       "<table border=\"1\" class=\"dataframe\">\n",
       "  <thead>\n",
       "    <tr style=\"text-align: right;\">\n",
       "      <th></th>\n",
       "      <th>dim_claim_id</th>\n",
       "      <th>dim_pa_id</th>\n",
       "      <th>dim_date_id</th>\n",
       "      <th>bin</th>\n",
       "      <th>drug</th>\n",
       "      <th>reject_code</th>\n",
       "      <th>pharmacy_claim_approved</th>\n",
       "      <th>correct_diagnosis</th>\n",
       "      <th>tried_and_failed</th>\n",
       "      <th>contraindication</th>\n",
       "      <th>pa_approved</th>\n",
       "    </tr>\n",
       "  </thead>\n",
       "  <tbody>\n",
       "    <tr>\n",
       "      <th>0</th>\n",
       "      <td>1</td>\n",
       "      <td>1.0</td>\n",
       "      <td>1</td>\n",
       "      <td>417380</td>\n",
       "      <td>A</td>\n",
       "      <td>75.0</td>\n",
       "      <td>0</td>\n",
       "      <td>1</td>\n",
       "      <td>1</td>\n",
       "      <td>0</td>\n",
       "      <td>1</td>\n",
       "    </tr>\n",
       "    <tr>\n",
       "      <th>1</th>\n",
       "      <td>3</td>\n",
       "      <td>2.0</td>\n",
       "      <td>1</td>\n",
       "      <td>417740</td>\n",
       "      <td>A</td>\n",
       "      <td>76.0</td>\n",
       "      <td>0</td>\n",
       "      <td>1</td>\n",
       "      <td>0</td>\n",
       "      <td>0</td>\n",
       "      <td>1</td>\n",
       "    </tr>\n",
       "    <tr>\n",
       "      <th>2</th>\n",
       "      <td>10</td>\n",
       "      <td>3.0</td>\n",
       "      <td>1</td>\n",
       "      <td>417380</td>\n",
       "      <td>A</td>\n",
       "      <td>75.0</td>\n",
       "      <td>0</td>\n",
       "      <td>0</td>\n",
       "      <td>0</td>\n",
       "      <td>1</td>\n",
       "      <td>1</td>\n",
       "    </tr>\n",
       "    <tr>\n",
       "      <th>3</th>\n",
       "      <td>11</td>\n",
       "      <td>4.0</td>\n",
       "      <td>1</td>\n",
       "      <td>999001</td>\n",
       "      <td>A</td>\n",
       "      <td>76.0</td>\n",
       "      <td>0</td>\n",
       "      <td>1</td>\n",
       "      <td>1</td>\n",
       "      <td>0</td>\n",
       "      <td>1</td>\n",
       "    </tr>\n",
       "    <tr>\n",
       "      <th>4</th>\n",
       "      <td>15</td>\n",
       "      <td>5.0</td>\n",
       "      <td>1</td>\n",
       "      <td>417614</td>\n",
       "      <td>A</td>\n",
       "      <td>70.0</td>\n",
       "      <td>0</td>\n",
       "      <td>0</td>\n",
       "      <td>1</td>\n",
       "      <td>0</td>\n",
       "      <td>1</td>\n",
       "    </tr>\n",
       "    <tr>\n",
       "      <th>...</th>\n",
       "      <td>...</td>\n",
       "      <td>...</td>\n",
       "      <td>...</td>\n",
       "      <td>...</td>\n",
       "      <td>...</td>\n",
       "      <td>...</td>\n",
       "      <td>...</td>\n",
       "      <td>...</td>\n",
       "      <td>...</td>\n",
       "      <td>...</td>\n",
       "      <td>...</td>\n",
       "    </tr>\n",
       "    <tr>\n",
       "      <th>555946</th>\n",
       "      <td>1335557</td>\n",
       "      <td>555947.0</td>\n",
       "      <td>1095</td>\n",
       "      <td>417380</td>\n",
       "      <td>C</td>\n",
       "      <td>70.0</td>\n",
       "      <td>0</td>\n",
       "      <td>1</td>\n",
       "      <td>0</td>\n",
       "      <td>1</td>\n",
       "      <td>0</td>\n",
       "    </tr>\n",
       "    <tr>\n",
       "      <th>555947</th>\n",
       "      <td>1335558</td>\n",
       "      <td>555948.0</td>\n",
       "      <td>1095</td>\n",
       "      <td>417740</td>\n",
       "      <td>C</td>\n",
       "      <td>75.0</td>\n",
       "      <td>0</td>\n",
       "      <td>1</td>\n",
       "      <td>0</td>\n",
       "      <td>1</td>\n",
       "      <td>1</td>\n",
       "    </tr>\n",
       "    <tr>\n",
       "      <th>555948</th>\n",
       "      <td>1335559</td>\n",
       "      <td>555949.0</td>\n",
       "      <td>1095</td>\n",
       "      <td>417740</td>\n",
       "      <td>C</td>\n",
       "      <td>75.0</td>\n",
       "      <td>0</td>\n",
       "      <td>1</td>\n",
       "      <td>1</td>\n",
       "      <td>1</td>\n",
       "      <td>1</td>\n",
       "    </tr>\n",
       "    <tr>\n",
       "      <th>555949</th>\n",
       "      <td>1335572</td>\n",
       "      <td>555950.0</td>\n",
       "      <td>1095</td>\n",
       "      <td>417740</td>\n",
       "      <td>C</td>\n",
       "      <td>75.0</td>\n",
       "      <td>0</td>\n",
       "      <td>1</td>\n",
       "      <td>0</td>\n",
       "      <td>0</td>\n",
       "      <td>1</td>\n",
       "    </tr>\n",
       "    <tr>\n",
       "      <th>555950</th>\n",
       "      <td>1335574</td>\n",
       "      <td>555951.0</td>\n",
       "      <td>1095</td>\n",
       "      <td>417380</td>\n",
       "      <td>C</td>\n",
       "      <td>70.0</td>\n",
       "      <td>0</td>\n",
       "      <td>0</td>\n",
       "      <td>0</td>\n",
       "      <td>1</td>\n",
       "      <td>0</td>\n",
       "    </tr>\n",
       "  </tbody>\n",
       "</table>\n",
       "<p>555951 rows × 11 columns</p>\n",
       "</div>"
      ],
      "text/plain": [
       "        dim_claim_id  dim_pa_id  dim_date_id     bin drug  reject_code  \\\n",
       "0                  1        1.0            1  417380    A         75.0   \n",
       "1                  3        2.0            1  417740    A         76.0   \n",
       "2                 10        3.0            1  417380    A         75.0   \n",
       "3                 11        4.0            1  999001    A         76.0   \n",
       "4                 15        5.0            1  417614    A         70.0   \n",
       "...              ...        ...          ...     ...  ...          ...   \n",
       "555946       1335557   555947.0         1095  417380    C         70.0   \n",
       "555947       1335558   555948.0         1095  417740    C         75.0   \n",
       "555948       1335559   555949.0         1095  417740    C         75.0   \n",
       "555949       1335572   555950.0         1095  417740    C         75.0   \n",
       "555950       1335574   555951.0         1095  417380    C         70.0   \n",
       "\n",
       "        pharmacy_claim_approved  correct_diagnosis  tried_and_failed  \\\n",
       "0                             0                  1                 1   \n",
       "1                             0                  1                 0   \n",
       "2                             0                  0                 0   \n",
       "3                             0                  1                 1   \n",
       "4                             0                  0                 1   \n",
       "...                         ...                ...               ...   \n",
       "555946                        0                  1                 0   \n",
       "555947                        0                  1                 0   \n",
       "555948                        0                  1                 1   \n",
       "555949                        0                  1                 0   \n",
       "555950                        0                  0                 0   \n",
       "\n",
       "        contraindication  pa_approved  \n",
       "0                      0            1  \n",
       "1                      0            1  \n",
       "2                      1            1  \n",
       "3                      0            1  \n",
       "4                      0            1  \n",
       "...                  ...          ...  \n",
       "555946                 1            0  \n",
       "555947                 1            1  \n",
       "555948                 1            1  \n",
       "555949                 0            1  \n",
       "555950                 1            0  \n",
       "\n",
       "[555951 rows x 11 columns]"
      ]
     },
     "execution_count": 6,
     "metadata": {},
     "output_type": "execute_result"
    }
   ],
   "source": [
    "df_pa_bridge_claims = pd.merge(df_bridge_claims, df_pa)\n",
    "df_pa_bridge_claims"
   ]
  },
  {
   "cell_type": "code",
   "execution_count": 11,
   "id": "2a2512d1",
   "metadata": {},
   "outputs": [
    {
     "name": "stdout",
     "output_type": "stream",
     "text": [
      "<class 'pandas.core.frame.DataFrame'>\n",
      "Int64Index: 555951 entries, 0 to 555950\n",
      "Data columns (total 11 columns):\n",
      " #   Column                   Non-Null Count   Dtype  \n",
      "---  ------                   --------------   -----  \n",
      " 0   dim_claim_id             555951 non-null  int64  \n",
      " 1   dim_pa_id                555951 non-null  float64\n",
      " 2   dim_date_id              555951 non-null  int64  \n",
      " 3   bin                      555951 non-null  int64  \n",
      " 4   drug                     555951 non-null  object \n",
      " 5   reject_code              555951 non-null  float64\n",
      " 6   pharmacy_claim_approved  555951 non-null  int64  \n",
      " 7   correct_diagnosis        555951 non-null  int64  \n",
      " 8   tried_and_failed         555951 non-null  int64  \n",
      " 9   contraindication         555951 non-null  int64  \n",
      " 10  pa_approved              555951 non-null  int64  \n",
      "dtypes: float64(2), int64(8), object(1)\n",
      "memory usage: 50.9+ MB\n"
     ]
    }
   ],
   "source": [
    "df_pa_bridge_claims.info()"
   ]
  },
  {
   "cell_type": "markdown",
   "id": "34e30628",
   "metadata": {},
   "source": [
    "There are no missing values in this dataset.\n",
    "\n",
    "Let's check the features we have:"
   ]
  },
  {
   "cell_type": "code",
   "execution_count": 12,
   "id": "6fc09f6f",
   "metadata": {},
   "outputs": [
    {
     "data": {
      "text/plain": [
       "array(['dim_claim_id', 'dim_pa_id', 'dim_date_id', 'bin', 'drug',\n",
       "       'reject_code', 'pharmacy_claim_approved', 'correct_diagnosis',\n",
       "       'tried_and_failed', 'contraindication', 'pa_approved'],\n",
       "      dtype=object)"
      ]
     },
     "execution_count": 12,
     "metadata": {},
     "output_type": "execute_result"
    }
   ],
   "source": [
    "df_pa_bridge_claims.columns.values"
   ]
  },
  {
   "cell_type": "markdown",
   "id": "13b92c7c",
   "metadata": {},
   "source": [
    "Everything except for ids are categorical"
   ]
  },
  {
   "cell_type": "markdown",
   "id": "691a1584",
   "metadata": {},
   "source": [
    "## Further clean data in 'df_pa_bridge_claims'"
   ]
  },
  {
   "cell_type": "code",
   "execution_count": 7,
   "id": "ec40086d",
   "metadata": {},
   "outputs": [
    {
     "data": {
      "text/html": [
       "<div>\n",
       "<style scoped>\n",
       "    .dataframe tbody tr th:only-of-type {\n",
       "        vertical-align: middle;\n",
       "    }\n",
       "\n",
       "    .dataframe tbody tr th {\n",
       "        vertical-align: top;\n",
       "    }\n",
       "\n",
       "    .dataframe thead th {\n",
       "        text-align: right;\n",
       "    }\n",
       "</style>\n",
       "<table border=\"1\" class=\"dataframe\">\n",
       "  <thead>\n",
       "    <tr style=\"text-align: right;\">\n",
       "      <th></th>\n",
       "      <th>is_workday</th>\n",
       "      <th>bin</th>\n",
       "      <th>drug</th>\n",
       "      <th>reject_code</th>\n",
       "      <th>correct_diagnosis</th>\n",
       "      <th>tried_and_failed</th>\n",
       "      <th>contraindication</th>\n",
       "      <th>pa_approved</th>\n",
       "    </tr>\n",
       "  </thead>\n",
       "  <tbody>\n",
       "    <tr>\n",
       "      <th>0</th>\n",
       "      <td>0</td>\n",
       "      <td>417380</td>\n",
       "      <td>A</td>\n",
       "      <td>75.0</td>\n",
       "      <td>1</td>\n",
       "      <td>1</td>\n",
       "      <td>0</td>\n",
       "      <td>1</td>\n",
       "    </tr>\n",
       "    <tr>\n",
       "      <th>1</th>\n",
       "      <td>0</td>\n",
       "      <td>417740</td>\n",
       "      <td>A</td>\n",
       "      <td>76.0</td>\n",
       "      <td>1</td>\n",
       "      <td>0</td>\n",
       "      <td>0</td>\n",
       "      <td>1</td>\n",
       "    </tr>\n",
       "    <tr>\n",
       "      <th>2</th>\n",
       "      <td>0</td>\n",
       "      <td>417380</td>\n",
       "      <td>A</td>\n",
       "      <td>75.0</td>\n",
       "      <td>0</td>\n",
       "      <td>0</td>\n",
       "      <td>1</td>\n",
       "      <td>1</td>\n",
       "    </tr>\n",
       "    <tr>\n",
       "      <th>3</th>\n",
       "      <td>0</td>\n",
       "      <td>999001</td>\n",
       "      <td>A</td>\n",
       "      <td>76.0</td>\n",
       "      <td>1</td>\n",
       "      <td>1</td>\n",
       "      <td>0</td>\n",
       "      <td>1</td>\n",
       "    </tr>\n",
       "    <tr>\n",
       "      <th>4</th>\n",
       "      <td>0</td>\n",
       "      <td>417614</td>\n",
       "      <td>A</td>\n",
       "      <td>70.0</td>\n",
       "      <td>0</td>\n",
       "      <td>1</td>\n",
       "      <td>0</td>\n",
       "      <td>1</td>\n",
       "    </tr>\n",
       "    <tr>\n",
       "      <th>...</th>\n",
       "      <td>...</td>\n",
       "      <td>...</td>\n",
       "      <td>...</td>\n",
       "      <td>...</td>\n",
       "      <td>...</td>\n",
       "      <td>...</td>\n",
       "      <td>...</td>\n",
       "      <td>...</td>\n",
       "    </tr>\n",
       "    <tr>\n",
       "      <th>555946</th>\n",
       "      <td>1</td>\n",
       "      <td>417380</td>\n",
       "      <td>C</td>\n",
       "      <td>70.0</td>\n",
       "      <td>1</td>\n",
       "      <td>0</td>\n",
       "      <td>1</td>\n",
       "      <td>0</td>\n",
       "    </tr>\n",
       "    <tr>\n",
       "      <th>555947</th>\n",
       "      <td>1</td>\n",
       "      <td>417740</td>\n",
       "      <td>C</td>\n",
       "      <td>75.0</td>\n",
       "      <td>1</td>\n",
       "      <td>0</td>\n",
       "      <td>1</td>\n",
       "      <td>1</td>\n",
       "    </tr>\n",
       "    <tr>\n",
       "      <th>555948</th>\n",
       "      <td>1</td>\n",
       "      <td>417740</td>\n",
       "      <td>C</td>\n",
       "      <td>75.0</td>\n",
       "      <td>1</td>\n",
       "      <td>1</td>\n",
       "      <td>1</td>\n",
       "      <td>1</td>\n",
       "    </tr>\n",
       "    <tr>\n",
       "      <th>555949</th>\n",
       "      <td>1</td>\n",
       "      <td>417740</td>\n",
       "      <td>C</td>\n",
       "      <td>75.0</td>\n",
       "      <td>1</td>\n",
       "      <td>0</td>\n",
       "      <td>0</td>\n",
       "      <td>1</td>\n",
       "    </tr>\n",
       "    <tr>\n",
       "      <th>555950</th>\n",
       "      <td>1</td>\n",
       "      <td>417380</td>\n",
       "      <td>C</td>\n",
       "      <td>70.0</td>\n",
       "      <td>0</td>\n",
       "      <td>0</td>\n",
       "      <td>1</td>\n",
       "      <td>0</td>\n",
       "    </tr>\n",
       "  </tbody>\n",
       "</table>\n",
       "<p>555951 rows × 8 columns</p>\n",
       "</div>"
      ],
      "text/plain": [
       "        is_workday     bin drug  reject_code  correct_diagnosis  \\\n",
       "0                0  417380    A         75.0                  1   \n",
       "1                0  417740    A         76.0                  1   \n",
       "2                0  417380    A         75.0                  0   \n",
       "3                0  999001    A         76.0                  1   \n",
       "4                0  417614    A         70.0                  0   \n",
       "...            ...     ...  ...          ...                ...   \n",
       "555946           1  417380    C         70.0                  1   \n",
       "555947           1  417740    C         75.0                  1   \n",
       "555948           1  417740    C         75.0                  1   \n",
       "555949           1  417740    C         75.0                  1   \n",
       "555950           1  417380    C         70.0                  0   \n",
       "\n",
       "        tried_and_failed  contraindication  pa_approved  \n",
       "0                      1                 0            1  \n",
       "1                      0                 0            1  \n",
       "2                      0                 1            1  \n",
       "3                      1                 0            1  \n",
       "4                      1                 0            1  \n",
       "...                  ...               ...          ...  \n",
       "555946                 0                 1            0  \n",
       "555947                 0                 1            1  \n",
       "555948                 1                 1            1  \n",
       "555949                 0                 0            1  \n",
       "555950                 0                 1            0  \n",
       "\n",
       "[555951 rows x 8 columns]"
      ]
     },
     "execution_count": 7,
     "metadata": {},
     "output_type": "execute_result"
    }
   ],
   "source": [
    "total_data = pd.merge(df_date[['dim_date_id', 'is_workday']], df_pa_bridge_claims)\n",
    "\n",
    "total_data = total_data.drop(['dim_claim_id'], axis = 1)\n",
    "total_data = total_data.drop(['dim_pa_id'], axis = 1)\n",
    "total_data = total_data.drop(['dim_date_id'], axis = 1)\n",
    "total_data = total_data.drop(['pharmacy_claim_approved'], axis = 1)\n",
    "\n",
    "# total_data['drug'] = total_data['drug'].replace({'A': 1, 'B': 2, 'C': 3})\n",
    "# total_data['bin'] = total_data['bin'].replace({417614: 1, 417380: 2, 417740: 3, 999001: 4})\n",
    "# total_data['reject_code'] = total_data['reject_code'].replace({70: 1, 75: 2, 76: 3})\n",
    "\n",
    "total_data"
   ]
  },
  {
   "cell_type": "markdown",
   "id": "2b85b767",
   "metadata": {},
   "source": [
    "# Data cleaning (PA claims) and setup of classifiers"
   ]
  },
  {
   "cell_type": "code",
   "execution_count": 8,
   "id": "19c10287",
   "metadata": {},
   "outputs": [],
   "source": [
    "from sklearn.ensemble import RandomForestClassifier, AdaBoostClassifier, GradientBoostingClassifier, ExtraTreesClassifier, VotingClassifier\n",
    "from sklearn.discriminant_analysis import LinearDiscriminantAnalysis\n",
    "from sklearn.linear_model import LogisticRegression\n",
    "from sklearn.neighbors import KNeighborsClassifier\n",
    "from sklearn.tree import DecisionTreeClassifier\n",
    "from sklearn.neural_network import MLPClassifier\n",
    "from sklearn.svm import SVC\n",
    "from sklearn.model_selection import GridSearchCV, cross_val_score, StratifiedKFold, learning_curve\n",
    "from sklearn.metrics import accuracy_score, precision_score, recall_score, f1_score, confusion_matrix\n",
    "\n",
    "from sklearn.model_selection import train_test_split\n",
    "from sklearn.metrics import roc_curve\n",
    "\n",
    "from xgboost import XGBClassifier"
   ]
  },
  {
   "cell_type": "code",
   "execution_count": 9,
   "id": "69572965",
   "metadata": {},
   "outputs": [],
   "source": [
    "tmp_data = total_data.copy()"
   ]
  },
  {
   "cell_type": "code",
   "execution_count": 10,
   "id": "871982d9",
   "metadata": {},
   "outputs": [
    {
     "data": {
      "text/html": [
       "<div>\n",
       "<style scoped>\n",
       "    .dataframe tbody tr th:only-of-type {\n",
       "        vertical-align: middle;\n",
       "    }\n",
       "\n",
       "    .dataframe tbody tr th {\n",
       "        vertical-align: top;\n",
       "    }\n",
       "\n",
       "    .dataframe thead th {\n",
       "        text-align: right;\n",
       "    }\n",
       "</style>\n",
       "<table border=\"1\" class=\"dataframe\">\n",
       "  <thead>\n",
       "    <tr style=\"text-align: right;\">\n",
       "      <th></th>\n",
       "      <th>bin</th>\n",
       "      <th>drug</th>\n",
       "      <th>reject_code</th>\n",
       "      <th>correct_diagnosis</th>\n",
       "      <th>tried_and_failed</th>\n",
       "      <th>contraindication</th>\n",
       "      <th>pa_approved</th>\n",
       "    </tr>\n",
       "  </thead>\n",
       "  <tbody>\n",
       "    <tr>\n",
       "      <th>0</th>\n",
       "      <td>2</td>\n",
       "      <td>1</td>\n",
       "      <td>2.0</td>\n",
       "      <td>1</td>\n",
       "      <td>1</td>\n",
       "      <td>0</td>\n",
       "      <td>1</td>\n",
       "    </tr>\n",
       "    <tr>\n",
       "      <th>1</th>\n",
       "      <td>3</td>\n",
       "      <td>1</td>\n",
       "      <td>3.0</td>\n",
       "      <td>1</td>\n",
       "      <td>0</td>\n",
       "      <td>0</td>\n",
       "      <td>1</td>\n",
       "    </tr>\n",
       "    <tr>\n",
       "      <th>2</th>\n",
       "      <td>2</td>\n",
       "      <td>1</td>\n",
       "      <td>2.0</td>\n",
       "      <td>0</td>\n",
       "      <td>0</td>\n",
       "      <td>1</td>\n",
       "      <td>1</td>\n",
       "    </tr>\n",
       "    <tr>\n",
       "      <th>3</th>\n",
       "      <td>4</td>\n",
       "      <td>1</td>\n",
       "      <td>3.0</td>\n",
       "      <td>1</td>\n",
       "      <td>1</td>\n",
       "      <td>0</td>\n",
       "      <td>1</td>\n",
       "    </tr>\n",
       "    <tr>\n",
       "      <th>4</th>\n",
       "      <td>1</td>\n",
       "      <td>1</td>\n",
       "      <td>1.0</td>\n",
       "      <td>0</td>\n",
       "      <td>1</td>\n",
       "      <td>0</td>\n",
       "      <td>1</td>\n",
       "    </tr>\n",
       "    <tr>\n",
       "      <th>...</th>\n",
       "      <td>...</td>\n",
       "      <td>...</td>\n",
       "      <td>...</td>\n",
       "      <td>...</td>\n",
       "      <td>...</td>\n",
       "      <td>...</td>\n",
       "      <td>...</td>\n",
       "    </tr>\n",
       "    <tr>\n",
       "      <th>555946</th>\n",
       "      <td>2</td>\n",
       "      <td>3</td>\n",
       "      <td>1.0</td>\n",
       "      <td>1</td>\n",
       "      <td>0</td>\n",
       "      <td>1</td>\n",
       "      <td>0</td>\n",
       "    </tr>\n",
       "    <tr>\n",
       "      <th>555947</th>\n",
       "      <td>3</td>\n",
       "      <td>3</td>\n",
       "      <td>2.0</td>\n",
       "      <td>1</td>\n",
       "      <td>0</td>\n",
       "      <td>1</td>\n",
       "      <td>1</td>\n",
       "    </tr>\n",
       "    <tr>\n",
       "      <th>555948</th>\n",
       "      <td>3</td>\n",
       "      <td>3</td>\n",
       "      <td>2.0</td>\n",
       "      <td>1</td>\n",
       "      <td>1</td>\n",
       "      <td>1</td>\n",
       "      <td>1</td>\n",
       "    </tr>\n",
       "    <tr>\n",
       "      <th>555949</th>\n",
       "      <td>3</td>\n",
       "      <td>3</td>\n",
       "      <td>2.0</td>\n",
       "      <td>1</td>\n",
       "      <td>0</td>\n",
       "      <td>0</td>\n",
       "      <td>1</td>\n",
       "    </tr>\n",
       "    <tr>\n",
       "      <th>555950</th>\n",
       "      <td>2</td>\n",
       "      <td>3</td>\n",
       "      <td>1.0</td>\n",
       "      <td>0</td>\n",
       "      <td>0</td>\n",
       "      <td>1</td>\n",
       "      <td>0</td>\n",
       "    </tr>\n",
       "  </tbody>\n",
       "</table>\n",
       "<p>555951 rows × 7 columns</p>\n",
       "</div>"
      ],
      "text/plain": [
       "        bin  drug  reject_code  correct_diagnosis  tried_and_failed  \\\n",
       "0         2     1          2.0                  1                 1   \n",
       "1         3     1          3.0                  1                 0   \n",
       "2         2     1          2.0                  0                 0   \n",
       "3         4     1          3.0                  1                 1   \n",
       "4         1     1          1.0                  0                 1   \n",
       "...     ...   ...          ...                ...               ...   \n",
       "555946    2     3          1.0                  1                 0   \n",
       "555947    3     3          2.0                  1                 0   \n",
       "555948    3     3          2.0                  1                 1   \n",
       "555949    3     3          2.0                  1                 0   \n",
       "555950    2     3          1.0                  0                 0   \n",
       "\n",
       "        contraindication  pa_approved  \n",
       "0                      0            1  \n",
       "1                      0            1  \n",
       "2                      1            1  \n",
       "3                      0            1  \n",
       "4                      0            1  \n",
       "...                  ...          ...  \n",
       "555946                 1            0  \n",
       "555947                 1            1  \n",
       "555948                 1            1  \n",
       "555949                 0            1  \n",
       "555950                 1            0  \n",
       "\n",
       "[555951 rows x 7 columns]"
      ]
     },
     "execution_count": 10,
     "metadata": {},
     "output_type": "execute_result"
    }
   ],
   "source": [
    "## 'is_workday' feature may not be important at all\n",
    "tmp_data = tmp_data.drop('is_workday', axis = 1)\n",
    "\n",
    "tmp_data['drug'] = tmp_data['drug'].replace({'A': 1, 'B': 2, 'C': 3})\n",
    "tmp_data['bin'] = tmp_data['bin'].replace({417614: 1, 417380: 2, 417740: 3, 999001: 4})\n",
    "tmp_data['reject_code'] = tmp_data['reject_code'].replace({70: 1, 75: 2, 76: 3})\n",
    "\n",
    "tmp_data"
   ]
  },
  {
   "cell_type": "markdown",
   "id": "406c2e00",
   "metadata": {},
   "source": [
    "## Main data for training\n",
    "\n",
    "We want to classify what kind of the PA claims will be approved or not"
   ]
  },
  {
   "cell_type": "code",
   "execution_count": 14,
   "id": "c9cd658f",
   "metadata": {},
   "outputs": [
    {
     "data": {
      "text/plain": [
       "(555951, 6)"
      ]
     },
     "metadata": {},
     "output_type": "display_data"
    },
    {
     "data": {
      "text/plain": [
       "(555951,)"
      ]
     },
     "metadata": {},
     "output_type": "display_data"
    }
   ],
   "source": [
    "X_train = tmp_data.drop('pa_approved', axis = 1)\n",
    "Y_train = tmp_data['pa_approved']\n",
    "\n",
    "op(X_train.shape, \n",
    "   Y_train.shape)"
   ]
  },
  {
   "cell_type": "code",
   "execution_count": null,
   "id": "d714dd0e",
   "metadata": {},
   "outputs": [],
   "source": []
  },
  {
   "cell_type": "code",
   "execution_count": null,
   "id": "dd2511cd",
   "metadata": {},
   "outputs": [],
   "source": []
  },
  {
   "cell_type": "markdown",
   "id": "fe880ff0",
   "metadata": {},
   "source": [
    "## Cross validation of each classification model\n",
    "\n",
    "To save the computational time and get naive insight of which classifiers are better, below we only use 10000 dataset of the main training data"
   ]
  },
  {
   "cell_type": "code",
   "execution_count": 15,
   "id": "75e8e18b",
   "metadata": {},
   "outputs": [],
   "source": [
    "# Cross validate model with Kfold stratified cross val\n",
    "kfold = StratifiedKFold(n_splits=10)"
   ]
  },
  {
   "cell_type": "code",
   "execution_count": 16,
   "id": "240a7496",
   "metadata": {},
   "outputs": [
    {
     "name": "stderr",
     "output_type": "stream",
     "text": [
      "/Users/powenchang/opt/anaconda3/lib/python3.9/site-packages/xgboost/compat.py:36: FutureWarning: pandas.Int64Index is deprecated and will be removed from pandas in a future version. Use pandas.Index with the appropriate dtype instead.\n",
      "  from pandas import MultiIndex, Int64Index\n",
      "/Users/powenchang/opt/anaconda3/lib/python3.9/site-packages/xgboost/compat.py:36: FutureWarning: pandas.Int64Index is deprecated and will be removed from pandas in a future version. Use pandas.Index with the appropriate dtype instead.\n",
      "  from pandas import MultiIndex, Int64Index\n",
      "/Users/powenchang/opt/anaconda3/lib/python3.9/site-packages/xgboost/compat.py:36: FutureWarning: pandas.Int64Index is deprecated and will be removed from pandas in a future version. Use pandas.Index with the appropriate dtype instead.\n",
      "  from pandas import MultiIndex, Int64Index\n",
      "/Users/powenchang/opt/anaconda3/lib/python3.9/site-packages/xgboost/compat.py:36: FutureWarning: pandas.Int64Index is deprecated and will be removed from pandas in a future version. Use pandas.Index with the appropriate dtype instead.\n",
      "  from pandas import MultiIndex, Int64Index\n",
      "/Users/powenchang/opt/anaconda3/lib/python3.9/site-packages/xgboost/data.py:250: FutureWarning: pandas.Int64Index is deprecated and will be removed from pandas in a future version. Use pandas.Index with the appropriate dtype instead.\n",
      "  elif isinstance(data.columns, (pd.Int64Index, pd.RangeIndex)):\n",
      "/Users/powenchang/opt/anaconda3/lib/python3.9/site-packages/xgboost/data.py:250: FutureWarning: pandas.Int64Index is deprecated and will be removed from pandas in a future version. Use pandas.Index with the appropriate dtype instead.\n",
      "  elif isinstance(data.columns, (pd.Int64Index, pd.RangeIndex)):\n",
      "/Users/powenchang/opt/anaconda3/lib/python3.9/site-packages/xgboost/data.py:250: FutureWarning: pandas.Int64Index is deprecated and will be removed from pandas in a future version. Use pandas.Index with the appropriate dtype instead.\n",
      "  elif isinstance(data.columns, (pd.Int64Index, pd.RangeIndex)):\n",
      "/Users/powenchang/opt/anaconda3/lib/python3.9/site-packages/xgboost/data.py:250: FutureWarning: pandas.Int64Index is deprecated and will be removed from pandas in a future version. Use pandas.Index with the appropriate dtype instead.\n",
      "  elif isinstance(data.columns, (pd.Int64Index, pd.RangeIndex)):\n",
      "/Users/powenchang/opt/anaconda3/lib/python3.9/site-packages/xgboost/data.py:250: FutureWarning: pandas.Int64Index is deprecated and will be removed from pandas in a future version. Use pandas.Index with the appropriate dtype instead.\n",
      "  elif isinstance(data.columns, (pd.Int64Index, pd.RangeIndex)):\n",
      "/Users/powenchang/opt/anaconda3/lib/python3.9/site-packages/xgboost/data.py:250: FutureWarning: pandas.Int64Index is deprecated and will be removed from pandas in a future version. Use pandas.Index with the appropriate dtype instead.\n",
      "  elif isinstance(data.columns, (pd.Int64Index, pd.RangeIndex)):\n",
      "/Users/powenchang/opt/anaconda3/lib/python3.9/site-packages/xgboost/data.py:250: FutureWarning: pandas.Int64Index is deprecated and will be removed from pandas in a future version. Use pandas.Index with the appropriate dtype instead.\n",
      "  elif isinstance(data.columns, (pd.Int64Index, pd.RangeIndex)):\n",
      "/Users/powenchang/opt/anaconda3/lib/python3.9/site-packages/xgboost/data.py:250: FutureWarning: pandas.Int64Index is deprecated and will be removed from pandas in a future version. Use pandas.Index with the appropriate dtype instead.\n",
      "  elif isinstance(data.columns, (pd.Int64Index, pd.RangeIndex)):\n",
      "/Users/powenchang/opt/anaconda3/lib/python3.9/site-packages/xgboost/data.py:250: FutureWarning: pandas.Int64Index is deprecated and will be removed from pandas in a future version. Use pandas.Index with the appropriate dtype instead.\n",
      "  elif isinstance(data.columns, (pd.Int64Index, pd.RangeIndex)):\n",
      "/Users/powenchang/opt/anaconda3/lib/python3.9/site-packages/xgboost/data.py:250: FutureWarning: pandas.Int64Index is deprecated and will be removed from pandas in a future version. Use pandas.Index with the appropriate dtype instead.\n",
      "  elif isinstance(data.columns, (pd.Int64Index, pd.RangeIndex)):\n"
     ]
    },
    {
     "data": {
      "image/png": "[encoded data removed]",
      "text/plain": [
       "<Figure size 432x288 with 1 Axes>"
      ]
     },
     "metadata": {
      "needs_background": "light"
     },
     "output_type": "display_data"
    }
   ],
   "source": [
    "# Modeling step Test differents algorithms \n",
    "random_state = 2\n",
    "classifiers = []\n",
    "classifiers.append(SVC(random_state=random_state))\n",
    "classifiers.append(DecisionTreeClassifier(random_state=random_state))\n",
    "classifiers.append(AdaBoostClassifier(DecisionTreeClassifier(random_state=random_state),random_state=random_state,learning_rate=0.1))\n",
    "classifiers.append(RandomForestClassifier(random_state=random_state))\n",
    "classifiers.append(ExtraTreesClassifier(random_state=random_state))\n",
    "classifiers.append(GradientBoostingClassifier(random_state=random_state))\n",
    "classifiers.append(MLPClassifier(random_state=random_state))\n",
    "classifiers.append(KNeighborsClassifier())\n",
    "classifiers.append(LogisticRegression(random_state = random_state))\n",
    "classifiers.append(LinearDiscriminantAnalysis())\n",
    "classifiers.append(XGBClassifier(random_state=random_state, use_label_encoder=False))\n",
    "\n",
    "cv_results = []\n",
    "for classifier in classifiers :\n",
    "    cv_results.append(cross_val_score(classifier, X_train.iloc[:10000], y = Y_train.iloc[:10000], \n",
    "                                      scoring = \"accuracy\", cv = kfold, n_jobs = 4))\n",
    "                                      ##[:10000]: use a subset of data to speedup cross_validation\n",
    "    \n",
    "cv_means = []\n",
    "cv_std = []\n",
    "for cv_result in cv_results:\n",
    "    cv_means.append(cv_result.mean())\n",
    "    cv_std.append(cv_result.std())\n",
    "\n",
    "# cv_res = pd.DataFrame({\"CrossValMeans\":cv_means,\"CrossValerrors\": cv_std,\"Algorithm\":[\"SVC\",\"DecisionTree\"]})\n",
    "\n",
    "    \n",
    "cv_res = pd.DataFrame({\"CrossValMeans\":cv_means,\"CrossValerrors\": cv_std,\"Algorithm\":[\"SVC\",\"DecisionTree\",\"AdaBoost\",\n",
    "\"RandomForest\",\"ExtraTrees\",\"GradientBoosting\",\"MultipleLayerPerceptron\",\"KNeighboors\",\"LogisticRegression\",\"LinearDiscriminantAnalysis\",\n",
    "                                                                                     \"XGBoost\"]})\n",
    "\n",
    "g = sns.barplot(\"CrossValMeans\", \"Algorithm\", data = cv_res, palette = \"Set3\", orient = \"h\", **{'xerr':cv_std})\n",
    "g.set_xlabel(\"Mean Accuracy\")\n",
    "g = g.set_title(\"Cross validation scores\")"
   ]
  },
  {
   "cell_type": "code",
   "execution_count": 17,
   "id": "a967d240",
   "metadata": {},
   "outputs": [
    {
     "data": {
      "text/html": [
       "<div>\n",
       "<style scoped>\n",
       "    .dataframe tbody tr th:only-of-type {\n",
       "        vertical-align: middle;\n",
       "    }\n",
       "\n",
       "    .dataframe tbody tr th {\n",
       "        vertical-align: top;\n",
       "    }\n",
       "\n",
       "    .dataframe thead th {\n",
       "        text-align: right;\n",
       "    }\n",
       "</style>\n",
       "<table border=\"1\" class=\"dataframe\">\n",
       "  <thead>\n",
       "    <tr style=\"text-align: right;\">\n",
       "      <th></th>\n",
       "      <th>CrossValMeans</th>\n",
       "      <th>CrossValerrors</th>\n",
       "      <th>Algorithm</th>\n",
       "    </tr>\n",
       "  </thead>\n",
       "  <tbody>\n",
       "    <tr>\n",
       "      <th>0</th>\n",
       "      <td>0.8197</td>\n",
       "      <td>0.013886</td>\n",
       "      <td>SVC</td>\n",
       "    </tr>\n",
       "    <tr>\n",
       "      <th>1</th>\n",
       "      <td>0.8183</td>\n",
       "      <td>0.013372</td>\n",
       "      <td>DecisionTree</td>\n",
       "    </tr>\n",
       "    <tr>\n",
       "      <th>2</th>\n",
       "      <td>0.8183</td>\n",
       "      <td>0.013372</td>\n",
       "      <td>AdaBoost</td>\n",
       "    </tr>\n",
       "    <tr>\n",
       "      <th>3</th>\n",
       "      <td>0.8180</td>\n",
       "      <td>0.012853</td>\n",
       "      <td>RandomForest</td>\n",
       "    </tr>\n",
       "    <tr>\n",
       "      <th>4</th>\n",
       "      <td>0.8183</td>\n",
       "      <td>0.013372</td>\n",
       "      <td>ExtraTrees</td>\n",
       "    </tr>\n",
       "    <tr>\n",
       "      <th>5</th>\n",
       "      <td>0.8203</td>\n",
       "      <td>0.014512</td>\n",
       "      <td>GradientBoosting</td>\n",
       "    </tr>\n",
       "    <tr>\n",
       "      <th>6</th>\n",
       "      <td>0.8213</td>\n",
       "      <td>0.014388</td>\n",
       "      <td>MultipleLayerPerceptron</td>\n",
       "    </tr>\n",
       "    <tr>\n",
       "      <th>7</th>\n",
       "      <td>0.7829</td>\n",
       "      <td>0.012919</td>\n",
       "      <td>KNeighboors</td>\n",
       "    </tr>\n",
       "    <tr>\n",
       "      <th>8</th>\n",
       "      <td>0.8187</td>\n",
       "      <td>0.013726</td>\n",
       "      <td>LogisticRegression</td>\n",
       "    </tr>\n",
       "    <tr>\n",
       "      <th>9</th>\n",
       "      <td>0.8152</td>\n",
       "      <td>0.016160</td>\n",
       "      <td>LinearDiscriminantAnalysis</td>\n",
       "    </tr>\n",
       "    <tr>\n",
       "      <th>10</th>\n",
       "      <td>0.8184</td>\n",
       "      <td>0.013343</td>\n",
       "      <td>XGBoost</td>\n",
       "    </tr>\n",
       "  </tbody>\n",
       "</table>\n",
       "</div>"
      ],
      "text/plain": [
       "    CrossValMeans  CrossValerrors                   Algorithm\n",
       "0          0.8197        0.013886                         SVC\n",
       "1          0.8183        0.013372                DecisionTree\n",
       "2          0.8183        0.013372                    AdaBoost\n",
       "3          0.8180        0.012853                RandomForest\n",
       "4          0.8183        0.013372                  ExtraTrees\n",
       "5          0.8203        0.014512            GradientBoosting\n",
       "6          0.8213        0.014388     MultipleLayerPerceptron\n",
       "7          0.7829        0.012919                 KNeighboors\n",
       "8          0.8187        0.013726          LogisticRegression\n",
       "9          0.8152        0.016160  LinearDiscriminantAnalysis\n",
       "10         0.8184        0.013343                     XGBoost"
      ]
     },
     "execution_count": 17,
     "metadata": {},
     "output_type": "execute_result"
    }
   ],
   "source": [
    "cv_res"
   ]
  },
  {
   "cell_type": "markdown",
   "id": "04b3d86e",
   "metadata": {},
   "source": [
    "## Single train-test split to compare the scores of prediction from each model"
   ]
  },
  {
   "cell_type": "code",
   "execution_count": 18,
   "id": "baf0b389",
   "metadata": {},
   "outputs": [
    {
     "data": {
      "text/plain": [
       "(500355, 6)"
      ]
     },
     "metadata": {},
     "output_type": "display_data"
    },
    {
     "data": {
      "text/plain": [
       "(500355,)"
      ]
     },
     "metadata": {},
     "output_type": "display_data"
    },
    {
     "data": {
      "text/plain": [
       "(55596, 6)"
      ]
     },
     "metadata": {},
     "output_type": "display_data"
    },
    {
     "data": {
      "text/plain": [
       "(55596,)"
      ]
     },
     "metadata": {},
     "output_type": "display_data"
    }
   ],
   "source": [
    "X_0 = X_train\n",
    "Y_0 = Y_train\n",
    "\n",
    "\n",
    "X_train_2, X_test_2, Y_train_2, Y_test_2 = train_test_split(X_0, Y_0,\n",
    "                                                   shuffle = True,\n",
    "                                                   random_state = 2,\n",
    "                                                   test_size = .1)\n",
    "\n",
    "op(X_train_2.shape, Y_train_2.shape)\n",
    "op(X_test_2.shape, Y_test_2.shape)"
   ]
  },
  {
   "cell_type": "code",
   "execution_count": 19,
   "id": "2cbdb51f",
   "metadata": {},
   "outputs": [
    {
     "name": "stdout",
     "output_type": "stream",
     "text": [
      "[21:57:01] WARNING: /var/folders/sy/f16zz6x50xz3113nwtb9bvq00000gp/T/abs_44tbtwf8c1/croots/recipe/xgboost-split_1659548960882/work/src/learner.cc:1115: Starting in XGBoost 1.3.0, the default evaluation metric used with the objective 'binary:logistic' was changed from 'error' to 'logloss'. Explicitly set eval_metric if you'd like to restore the old behavior.\n"
     ]
    }
   ],
   "source": [
    "# Modeling step Test differents algorithms \n",
    "random_state = 2\n",
    "classifiers = []\n",
    "classifiers.append(DecisionTreeClassifier(random_state=random_state))\n",
    "classifiers.append(AdaBoostClassifier(DecisionTreeClassifier(random_state=random_state),random_state=random_state,learning_rate=0.1))\n",
    "classifiers.append(RandomForestClassifier(random_state=random_state))\n",
    "classifiers.append(ExtraTreesClassifier(random_state=random_state))\n",
    "classifiers.append(GradientBoostingClassifier(random_state=random_state))\n",
    "classifiers.append(KNeighborsClassifier())\n",
    "classifiers.append(LogisticRegression(random_state = random_state))\n",
    "classifiers.append(LinearDiscriminantAnalysis())\n",
    "classifiers.append(XGBClassifier(random_state=random_state, use_label_encoder=False))\n",
    "\n",
    "# classifiers.append(SVC(random_state=random_state))\n",
    "# classifiers.append(MLPClassifier(random_state=random_state))\n",
    "\n",
    "\n",
    "accuracy_results = []\n",
    "precision_results = []\n",
    "recall_results = []\n",
    "f1_results = []\n",
    "confusion_results = []\n",
    "\n",
    "for classifier in classifiers :\n",
    "    \n",
    "    classifier.fit(X_train_2, Y_train_2)\n",
    "    pred = classifier.predict(X_test_2)\n",
    "    \n",
    "    accuracy_results.append(accuracy_score(Y_test_2, pred))\n",
    "    precision_results.append(precision_score(Y_test_2, pred))\n",
    "    recall_results.append(recall_score(Y_test_2, pred))\n",
    "    f1_results.append(f1_score(Y_test_2, pred))\n",
    "    confusion_results.append(confusion_matrix(Y_test_2, pred))"
   ]
  },
  {
   "cell_type": "code",
   "execution_count": 43,
   "id": "20abb146",
   "metadata": {},
   "outputs": [
    {
     "data": {
      "image/png": "[encoded data removed]",
      "text/plain": [
       "<Figure size 432x288 with 1 Axes>"
      ]
     },
     "metadata": {
      "needs_background": "light"
     },
     "output_type": "display_data"
    },
    {
     "data": {
      "image/png": "[encoded data removed]",
      "text/plain": [
       "<Figure size 432x288 with 1 Axes>"
      ]
     },
     "metadata": {
      "needs_background": "light"
     },
     "output_type": "display_data"
    },
    {
     "data": {
      "image/png": "[encoded data removed]",
      "text/plain": [
       "<Figure size 432x288 with 1 Axes>"
      ]
     },
     "metadata": {
      "needs_background": "light"
     },
     "output_type": "display_data"
    },
    {
     "data": {
      "image/png": "[encoded data removed]",
      "text/plain": [
       "<Figure size 432x288 with 1 Axes>"
      ]
     },
     "metadata": {
      "needs_background": "light"
     },
     "output_type": "display_data"
    }
   ],
   "source": [
    "acc_res = pd.DataFrame({\"Accuracy_scores\": accuracy_results, \"Algorithm\": [\"DecisionTree\",\"AdaBoost\",\"RandomForest\",\"ExtraTrees\",\"GradientBoosting\",\n",
    "               \"KNeighboors\",\"LogisticRegression\",\"LinearDiscriminantAnalysis\",\"XGBoost\"]})\n",
    "\n",
    "g = sns.barplot(\"Accuracy_scores\", \"Algorithm\", data = acc_res, orient = \"h\")\n",
    "g.bar_label(g.containers[0])\n",
    "g.set_xlim(0,1.1)\n",
    "g.set_xlabel(\"Accuracy\")\n",
    "g = g.set_title(\"Accuracy scores\")\n",
    "plt.show()\n",
    "\n",
    "#---------------------------------------------\n",
    "\n",
    "prec_res = pd.DataFrame({\"Precision_scores\": precision_results, \"Algorithm\": [\"DecisionTree\",\"AdaBoost\",\"RandomForest\",\"ExtraTrees\",\"GradientBoosting\",\n",
    "               \"KNeighboors\",\"LogisticRegression\",\"LinearDiscriminantAnalysis\",\"XGBoost\"]})\n",
    "\n",
    "g = sns.barplot(\"Precision_scores\", \"Algorithm\", data = prec_res, orient = \"h\")\n",
    "g.bar_label(g.containers[0])\n",
    "g.set_xlim(0,1.1)\n",
    "g.set_xlabel(\"Precision\")\n",
    "g = g.set_title(\"Precision scores\")\n",
    "plt.show()\n",
    "\n",
    "#---------------------------------------------\n",
    "\n",
    "rec_res = pd.DataFrame({\"Recall_scores\": recall_results, \"Algorithm\": [\"DecisionTree\",\"AdaBoost\",\"RandomForest\",\"ExtraTrees\",\"GradientBoosting\",\n",
    "               \"KNeighboors\",\"LogisticRegression\",\"LinearDiscriminantAnalysis\",\"XGBoost\"]})\n",
    "\n",
    "g = sns.barplot(\"Recall_scores\", \"Algorithm\", data = rec_res, orient = \"h\")\n",
    "g.bar_label(g.containers[0])\n",
    "g.set_xlim(0,1.1)\n",
    "g.set_xlabel(\"Recall\")\n",
    "g = g.set_title(\"Recall scores\")\n",
    "plt.show()\n",
    "\n",
    "#---------------------------------------------\n",
    "\n",
    "f1_res = pd.DataFrame({\"f1_scores\": f1_results, \"Algorithm\": [\"DecisionTree\",\"AdaBoost\",\"RandomForest\",\"ExtraTrees\",\"GradientBoosting\",\n",
    "               \"KNeighboors\",\"LogisticRegression\",\"LinearDiscriminantAnalysis\",\"XGBoost\"]})\n",
    "\n",
    "g = sns.barplot(\"f1_scores\", \"Algorithm\", data = f1_res)\n",
    "g.bar_label(g.containers[0])\n",
    "g.set_xlim(0,1.1)\n",
    "g.set_xlabel(\"f1\")\n",
    "g = g.set_title(\"f1 scores\")\n",
    "plt.show()"
   ]
  },
  {
   "cell_type": "markdown",
   "id": "27883951",
   "metadata": {},
   "source": [
    "## Plot the ROC curve for each model"
   ]
  },
  {
   "cell_type": "code",
   "execution_count": 21,
   "id": "4f4d8026",
   "metadata": {},
   "outputs": [
    {
     "name": "stdout",
     "output_type": "stream",
     "text": [
      "[21:53:42] WARNING: /var/folders/sy/f16zz6x50xz3113nwtb9bvq00000gp/T/abs_44tbtwf8c1/croots/recipe/xgboost-split_1659548960882/work/src/learner.cc:1115: Starting in XGBoost 1.3.0, the default evaluation metric used with the objective 'binary:logistic' was changed from 'error' to 'logloss'. Explicitly set eval_metric if you'd like to restore the old behavior.\n",
      "[21:53:43] WARNING: /var/folders/sy/f16zz6x50xz3113nwtb9bvq00000gp/T/abs_44tbtwf8c1/croots/recipe/xgboost-split_1659548960882/work/src/learner.cc:1115: Starting in XGBoost 1.3.0, the default evaluation metric used with the objective 'binary:logistic' was changed from 'error' to 'logloss'. Explicitly set eval_metric if you'd like to restore the old behavior.\n",
      "[21:53:42] WARNING: /var/folders/sy/f16zz6x50xz3113nwtb9bvq00000gp/T/abs_44tbtwf8c1/croots/recipe/xgboost-split_1659548960882/work/src/learner.cc:1115: Starting in XGBoost 1.3.0, the default evaluation metric used with the objective 'binary:logistic' was changed from 'error' to 'logloss'. Explicitly set eval_metric if you'd like to restore the old behavior.\n",
      "[21:53:43] WARNING: /var/folders/sy/f16zz6x50xz3113nwtb9bvq00000gp/T/abs_44tbtwf8c1/croots/recipe/xgboost-split_1659548960882/work/src/learner.cc:1115: Starting in XGBoost 1.3.0, the default evaluation metric used with the objective 'binary:logistic' was changed from 'error' to 'logloss'. Explicitly set eval_metric if you'd like to restore the old behavior.\n",
      "[21:53:42] WARNING: /var/folders/sy/f16zz6x50xz3113nwtb9bvq00000gp/T/abs_44tbtwf8c1/croots/recipe/xgboost-split_1659548960882/work/src/learner.cc:1115: Starting in XGBoost 1.3.0, the default evaluation metric used with the objective 'binary:logistic' was changed from 'error' to 'logloss'. Explicitly set eval_metric if you'd like to restore the old behavior.\n",
      "[21:53:43] WARNING: /var/folders/sy/f16zz6x50xz3113nwtb9bvq00000gp/T/abs_44tbtwf8c1/croots/recipe/xgboost-split_1659548960882/work/src/learner.cc:1115: Starting in XGBoost 1.3.0, the default evaluation metric used with the objective 'binary:logistic' was changed from 'error' to 'logloss'. Explicitly set eval_metric if you'd like to restore the old behavior.\n",
      "[21:53:44] WARNING: /var/folders/sy/f16zz6x50xz3113nwtb9bvq00000gp/T/abs_44tbtwf8c1/croots/recipe/xgboost-split_1659548960882/work/src/learner.cc:1115: Starting in XGBoost 1.3.0, the default evaluation metric used with the objective 'binary:logistic' was changed from 'error' to 'logloss'. Explicitly set eval_metric if you'd like to restore the old behavior.\n",
      "[21:53:42] WARNING: /var/folders/sy/f16zz6x50xz3113nwtb9bvq00000gp/T/abs_44tbtwf8c1/croots/recipe/xgboost-split_1659548960882/work/src/learner.cc:1115: Starting in XGBoost 1.3.0, the default evaluation metric used with the objective 'binary:logistic' was changed from 'error' to 'logloss'. Explicitly set eval_metric if you'd like to restore the old behavior.\n",
      "[21:53:43] WARNING: /var/folders/sy/f16zz6x50xz3113nwtb9bvq00000gp/T/abs_44tbtwf8c1/croots/recipe/xgboost-split_1659548960882/work/src/learner.cc:1115: Starting in XGBoost 1.3.0, the default evaluation metric used with the objective 'binary:logistic' was changed from 'error' to 'logloss'. Explicitly set eval_metric if you'd like to restore the old behavior.\n",
      "[21:53:44] WARNING: /var/folders/sy/f16zz6x50xz3113nwtb9bvq00000gp/T/abs_44tbtwf8c1/croots/recipe/xgboost-split_1659548960882/work/src/learner.cc:1115: Starting in XGBoost 1.3.0, the default evaluation metric used with the objective 'binary:logistic' was changed from 'error' to 'logloss'. Explicitly set eval_metric if you'd like to restore the old behavior.\n"
     ]
    }
   ],
   "source": [
    "pred_prob_train = [None] * len(classifiers)\n",
    "\n",
    "for i in range(len(classifiers)):\n",
    "    pred_prob_train[i] = classifiers[i].predict_proba(X_train_2)[:,1]"
   ]
  },
  {
   "cell_type": "code",
   "execution_count": 22,
   "id": "96592cc6",
   "metadata": {},
   "outputs": [
    {
     "data": {
      "image/png": "[encoded data removed]",
      "text/plain": [
       "<Figure size 720x720 with 1 Axes>"
      ]
     },
     "metadata": {
      "needs_background": "light"
     },
     "output_type": "display_data"
    }
   ],
   "source": [
    "from sklearn.metrics import roc_auc_score\n",
    "\n",
    "label_list = [\"DecisionTree\",\"AdaBoost\",\"RandomForest\",\"ExtraTrees\",\"GradientBoosting\",\n",
    "               \"KNeighboors\",\"LogisticRegression\",\"LinearDiscriminantAnalysis\",\"XGBoost\"]\n",
    "\n",
    "plt.figure(figsize=(10,10))\n",
    "\n",
    "for i in range(len(classifiers)):\n",
    "\n",
    "    fprs, tprs, cutoffs = roc_curve(Y_train_2, pred_prob_train[i])\n",
    "    tmp_auc = roc_auc_score(Y_train_2, pred_prob_train[i])\n",
    "    \n",
    "    plt.plot(fprs, tprs, label = label_list[i] + ' (area = %.2f)' %tmp_auc)\n",
    "\n",
    "\n",
    "plt.plot([0,1], [0,1], 'k--', label=\"Random Guess Curve\")\n",
    "\n",
    "plt.xlabel(\"False Positive Rate\", fontsize=16)\n",
    "plt.ylabel(\"True Positive Rate\", fontsize=16)\n",
    "plt.xticks(fontsize=14)\n",
    "plt.yticks(fontsize=14)\n",
    "plt.legend(fontsize=14)\n",
    "\n",
    "plt.show()"
   ]
  },
  {
   "cell_type": "code",
   "execution_count": 111,
   "id": "f3cf0c42",
   "metadata": {},
   "outputs": [
    {
     "data": {
      "image/png": "[encoded data removed]",
      "text/plain": [
       "<Figure size 432x288 with 1 Axes>"
      ]
     },
     "metadata": {
      "needs_background": "light"
     },
     "output_type": "display_data"
    },
    {
     "data": {
      "image/png": "[encoded data removed]",
      "text/plain": [
       "<Figure size 432x288 with 1 Axes>"
      ]
     },
     "metadata": {
      "needs_background": "light"
     },
     "output_type": "display_data"
    },
    {
     "data": {
      "image/png": "[encoded data removed]",
      "text/plain": [
       "<Figure size 432x288 with 1 Axes>"
      ]
     },
     "metadata": {
      "needs_background": "light"
     },
     "output_type": "display_data"
    }
   ],
   "source": [
    "label_list = [\"DecisionTree\",\"AdaBoost\",\"RandomForest\",\"ExtraTrees\",\"GradientBoosting\",\n",
    "               \"KNeighboors\",\"LogisticRegression\",\"LinearDiscriminantAnalysis\",\"XGBoost\"]\n",
    "\n",
    "\n",
    "for i in range(len(label_list)):\n",
    "    ax = sns.scatterplot([acc_res.values[i,0]], [prec_res.values[i,0]], label = label_list[i])\n",
    "\n",
    "ax.set_xlim(0.7, 1)\n",
    "ax.set_ylim(0.7, 1)\n",
    "ax.legend(loc = 'upper right')\n",
    "ax.set_xlabel(\"Accuracy\")\n",
    "ax.set_ylabel(\"Precision\")\n",
    "plt.show()\n",
    "\n",
    "\n",
    "for i in range(len(label_list)):\n",
    "    ax = sns.scatterplot([rec_res.values[i,0]], [prec_res.values[i,0]], label = label_list[i])\n",
    "\n",
    "ax.set_xlim(0.5, 1)\n",
    "ax.set_ylim(0.5, 1)\n",
    "ax.legend(loc = 'lower left')\n",
    "ax.set_xlabel(\"Recall\")\n",
    "ax.set_ylabel(\"Precision\")\n",
    "plt.show()\n",
    "\n",
    "\n",
    "for i in range(len(label_list)):\n",
    "    ax = sns.scatterplot([rec_res.values[i,0]], [acc_res.values[i,0]], label = label_list[i])\n",
    "\n",
    "ax.set_xlim(0.4, 1)\n",
    "ax.set_ylim(0.5, 1)\n",
    "ax.legend(loc = 'lower left')\n",
    "ax.set_xlabel(\"Recall\")\n",
    "ax.set_ylabel(\"Accuracy\")\n",
    "plt.show()"
   ]
  },
  {
   "cell_type": "code",
   "execution_count": 118,
   "id": "a9c58139",
   "metadata": {},
   "outputs": [
    {
     "data": {
      "image/png": "[encoded data removed]",
      "text/plain": [
       "<Figure size 432x288 with 1 Axes>"
      ]
     },
     "metadata": {
      "needs_background": "light"
     },
     "output_type": "display_data"
    },
    {
     "data": {
      "image/png": "[encoded data removed]",
      "text/plain": [
       "<Figure size 432x288 with 1 Axes>"
      ]
     },
     "metadata": {
      "needs_background": "light"
     },
     "output_type": "display_data"
    },
    {
     "data": {
      "image/png": "[encoded data removed]",
      "text/plain": [
       "<Figure size 432x288 with 1 Axes>"
      ]
     },
     "metadata": {
      "needs_background": "light"
     },
     "output_type": "display_data"
    }
   ],
   "source": [
    "label_list = [\"DecisionTree\",\"AdaBoost\",\"RandomForest\",\"ExtraTrees\",\"GradientBoosting\",\n",
    "               \"KNeighboors\",\"LogisticRegression\",\"LinearDiscriminantAnalysis\",\"XGBoost\"]\n",
    "\n",
    "\n",
    "best_classifier = [0, 1, 2, 3, 4, 8]\n",
    "\n",
    "\n",
    "for i in range(len(best_classifier)):\n",
    "    ax = sns.scatterplot([acc_res.values[best_classifier[i],0]], [prec_res.values[best_classifier[i],0]], \n",
    "                         label = label_list[best_classifier[i]])\n",
    "\n",
    "ax.set_xlim(0.7, 1)\n",
    "ax.set_ylim(0.7, 1)\n",
    "ax.legend(loc = 'upper right')\n",
    "ax.set_xlabel(\"Accuracy\")\n",
    "ax.set_ylabel(\"Precision\")\n",
    "plt.show()\n",
    "\n",
    "\n",
    "for i in range(len(best_classifier)):\n",
    "    ax = sns.scatterplot([rec_res.values[best_classifier[i],0]], [prec_res.values[best_classifier[i],0]], \n",
    "                         label = label_list[best_classifier[i]])\n",
    "\n",
    "ax.set_xlim(0.5, 1)\n",
    "ax.set_ylim(0.5, 1)\n",
    "ax.legend(loc = 'lower left')\n",
    "ax.set_xlabel(\"Recall\")\n",
    "ax.set_ylabel(\"Precision\")\n",
    "plt.show()\n",
    "\n",
    "\n",
    "for i in range(len(best_classifier)):\n",
    "    ax = sns.scatterplot([rec_res.values[best_classifier[i],0]], [acc_res.values[best_classifier[i],0]], \n",
    "                         label = label_list[best_classifier[i]])\n",
    "\n",
    "ax.set_xlim(0.4, 1)\n",
    "ax.set_ylim(0.5, 1)\n",
    "ax.legend(loc = 'lower left')\n",
    "ax.set_xlabel(\"Recall\")\n",
    "ax.set_ylabel(\"Accuracy\")\n",
    "plt.show()"
   ]
  },
  {
   "cell_type": "code",
   "execution_count": null,
   "id": "7071ce95",
   "metadata": {},
   "outputs": [],
   "source": []
  },
  {
   "cell_type": "code",
   "execution_count": 120,
   "id": "862b936f",
   "metadata": {},
   "outputs": [
    {
     "data": {
      "text/plain": [
       "array(['DecisionTree', 'AdaBoost', 'RandomForest', 'ExtraTrees',\n",
       "       'GradientBoosting', 'XGBoost'], dtype='<U26')"
      ]
     },
     "execution_count": 120,
     "metadata": {},
     "output_type": "execute_result"
    }
   ],
   "source": [
    "np.array(label_list)[best_classifier]"
   ]
  },
  {
   "cell_type": "code",
   "execution_count": null,
   "id": "fd71d413",
   "metadata": {},
   "outputs": [],
   "source": [
    "# GradientBoosting seems to be the most ideal choice"
   ]
  },
  {
   "cell_type": "code",
   "execution_count": 121,
   "id": "5d324c3b",
   "metadata": {},
   "outputs": [],
   "source": [
    "model = GradientBoostingClassifier(random_state=random_state)\n",
    "model.fit(X_train_2, Y_train_2)\n",
    "pred_bs = model.predict(X_test_2)"
   ]
  },
  {
   "cell_type": "code",
   "execution_count": 122,
   "id": "fc9fafdb",
   "metadata": {},
   "outputs": [
    {
     "data": {
      "text/plain": [
       "array([1, 1, 1, ..., 0, 1, 0])"
      ]
     },
     "execution_count": 122,
     "metadata": {},
     "output_type": "execute_result"
    }
   ],
   "source": [
    "pred_bs"
   ]
  },
  {
   "cell_type": "code",
   "execution_count": 128,
   "id": "c1878cb6",
   "metadata": {},
   "outputs": [
    {
     "data": {
      "text/plain": [
       "0.8133858550974891"
      ]
     },
     "metadata": {},
     "output_type": "display_data"
    },
    {
     "data": {
      "text/plain": [
       "0.8375806773571096"
      ]
     },
     "metadata": {},
     "output_type": "display_data"
    },
    {
     "data": {
      "text/plain": [
       "0.9252254018032144"
      ]
     },
     "metadata": {},
     "output_type": "display_data"
    },
    {
     "data": {
      "text/plain": [
       "0.8792242412954147"
      ]
     },
     "metadata": {},
     "output_type": "display_data"
    }
   ],
   "source": [
    "op(accuracy_score(Y_test_2, pred_bs),\n",
    "  precision_score(Y_test_2, pred_bs),\n",
    "  recall_score(Y_test_2, pred_bs),\n",
    "  f1_score(Y_test_2, pred_bs))"
   ]
  },
  {
   "cell_type": "code",
   "execution_count": 130,
   "id": "55843464",
   "metadata": {},
   "outputs": [
    {
     "data": {
      "text/plain": [
       "array([[ 7457,  7323],\n",
       "       [ 3052, 37764]])"
      ]
     },
     "execution_count": 130,
     "metadata": {},
     "output_type": "execute_result"
    }
   ],
   "source": [
    "confusion_matrix(Y_test_2, pred_bs)"
   ]
  },
  {
   "cell_type": "code",
   "execution_count": 151,
   "id": "cbce5869",
   "metadata": {},
   "outputs": [
    {
     "data": {
      "image/png": "[encoded data removed]",
      "text/plain": [
       "<Figure size 432x288 with 2 Axes>"
      ]
     },
     "metadata": {
      "needs_background": "light"
     },
     "output_type": "display_data"
    },
    {
     "data": {
      "image/png": "[encoded data removed]",
      "text/plain": [
       "<Figure size 432x288 with 2 Axes>"
      ]
     },
     "metadata": {
      "needs_background": "light"
     },
     "output_type": "display_data"
    }
   ],
   "source": [
    "from sklearn.metrics import plot_confusion_matrix\n",
    "\n",
    "plot_confusion_matrix(model, X_train_2, Y_train_2)\n",
    "plot_confusion_matrix(model, X_test_2, Y_test_2)\n",
    "plt.show()"
   ]
  },
  {
   "cell_type": "code",
   "execution_count": null,
   "id": "23950c43",
   "metadata": {},
   "outputs": [],
   "source": []
  },
  {
   "cell_type": "code",
   "execution_count": null,
   "id": "9e08213f",
   "metadata": {},
   "outputs": [],
   "source": []
  },
  {
   "cell_type": "code",
   "execution_count": null,
   "id": "65297338",
   "metadata": {},
   "outputs": [],
   "source": []
  },
  {
   "cell_type": "code",
   "execution_count": null,
   "id": "d9f5e7e1",
   "metadata": {},
   "outputs": [],
   "source": []
  },
  {
   "cell_type": "code",
   "execution_count": null,
   "id": "2e863bc8",
   "metadata": {},
   "outputs": [],
   "source": []
  },
  {
   "cell_type": "code",
   "execution_count": null,
   "id": "d2ae5030",
   "metadata": {},
   "outputs": [],
   "source": []
  },
  {
   "cell_type": "code",
   "execution_count": 139,
   "id": "c8bc1553",
   "metadata": {},
   "outputs": [
    {
     "name": "stdout",
     "output_type": "stream",
     "text": [
      "Fitting 5 folds for each of 36 candidates, totalling 180 fits\n"
     ]
    },
    {
     "data": {
      "text/plain": [
       "0.8142199038682536"
      ]
     },
     "execution_count": 139,
     "metadata": {},
     "output_type": "execute_result"
    }
   ],
   "source": [
    "## Best accuracy\n",
    "\n",
    "model_cv = GradientBoostingClassifier()\n",
    "gb_param_grid = {'n_estimators' : [50, 100, 150],\n",
    "                 'learning_rate': [0.1, 0.05, 0.01], 'max_depth': [4, 8],\n",
    "                 'max_features': [0.3, 0.1]}\n",
    "\n",
    "gsGBC = GridSearchCV(model_cv, param_grid = gb_param_grid, cv=None, scoring=\"accuracy\", n_jobs= 4, verbose = 1)\n",
    "\n",
    "gsGBC.fit(X_train_2, Y_train_2)\n",
    "\n",
    "# GBC_best = gsGBC.best_estimator_\n",
    "# Best score\n",
    "gsGBC.best_score_"
   ]
  },
  {
   "cell_type": "code",
   "execution_count": 140,
   "id": "725034c1",
   "metadata": {},
   "outputs": [
    {
     "data": {
      "text/plain": [
       "GradientBoostingClassifier(max_depth=4, max_features=0.1, n_estimators=150)"
      ]
     },
     "execution_count": 140,
     "metadata": {},
     "output_type": "execute_result"
    }
   ],
   "source": [
    "gsGBC.best_estimator_"
   ]
  },
  {
   "cell_type": "code",
   "execution_count": 169,
   "id": "106f1765",
   "metadata": {},
   "outputs": [
    {
     "data": {
      "text/plain": [
       "0.8133858550974891"
      ]
     },
     "metadata": {},
     "output_type": "display_data"
    },
    {
     "data": {
      "text/plain": [
       "0.8375806773571096"
      ]
     },
     "metadata": {},
     "output_type": "display_data"
    },
    {
     "data": {
      "text/plain": [
       "0.9252254018032144"
      ]
     },
     "metadata": {},
     "output_type": "display_data"
    },
    {
     "data": {
      "text/plain": [
       "0.8792242412954147"
      ]
     },
     "metadata": {},
     "output_type": "display_data"
    }
   ],
   "source": [
    "pred_tmp = gsGBC.predict(X_test_2)\n",
    "\n",
    "op(accuracy_score(Y_test_2, pred_tmp),\n",
    "  precision_score(Y_test_2, pred_tmp),\n",
    "  recall_score(Y_test_2, pred_tmp),\n",
    "  f1_score(Y_test_2, pred_tmp))"
   ]
  },
  {
   "cell_type": "code",
   "execution_count": 172,
   "id": "2e68c4ef",
   "metadata": {},
   "outputs": [
    {
     "data": {
      "image/png": "[encoded data removed]",
      "text/plain": [
       "<Figure size 432x288 with 2 Axes>"
      ]
     },
     "metadata": {
      "needs_background": "light"
     },
     "output_type": "display_data"
    }
   ],
   "source": [
    "plot_confusion_matrix(gsGBC.best_estimator_, X_test_2, Y_test_2)\n",
    "plt.show()"
   ]
  },
  {
   "cell_type": "code",
   "execution_count": 176,
   "id": "7006efb6",
   "metadata": {},
   "outputs": [
    {
     "data": {
      "image/png": "[encoded data removed]",
      "text/plain": [
       "<Figure size 1080x576 with 1 Axes>"
      ]
     },
     "metadata": {
      "needs_background": "light"
     },
     "output_type": "display_data"
    }
   ],
   "source": [
    "concat_features = ['bin', 'drug', 'reject_code', 'correct_diagnosis', 'tried_and_failed', 'contraindication']\n",
    "\n",
    "fig, ax = plt.subplots(figsize = (15, 8))\n",
    "\n",
    "bars = sns.barplot(concat_features, gsGBC.best_estimator_.feature_importances_, color ='purple')\n",
    "bars.bar_label(bars.containers[0], fontsize = 15)\n",
    "ax.set_xlabel('Features', fontsize = 14)\n",
    "ax.set_ylabel('Importance', fontsize = 14)\n",
    "\n",
    "plt.show()"
   ]
  },
  {
   "cell_type": "code",
   "execution_count": null,
   "id": "294d1758",
   "metadata": {},
   "outputs": [],
   "source": []
  },
  {
   "cell_type": "code",
   "execution_count": null,
   "id": "9d9122e5",
   "metadata": {},
   "outputs": [],
   "source": []
  },
  {
   "cell_type": "code",
   "execution_count": null,
   "id": "ea91d8fd",
   "metadata": {},
   "outputs": [],
   "source": []
  },
  {
   "cell_type": "code",
   "execution_count": 141,
   "id": "7ec5007f",
   "metadata": {},
   "outputs": [
    {
     "name": "stdout",
     "output_type": "stream",
     "text": [
      "Fitting 5 folds for each of 36 candidates, totalling 180 fits\n"
     ]
    },
    {
     "data": {
      "text/plain": [
       "0.8395136618179524"
      ]
     },
     "execution_count": 141,
     "metadata": {},
     "output_type": "execute_result"
    }
   ],
   "source": [
    "## Best precision\n",
    "\n",
    "model_cv = GradientBoostingClassifier()\n",
    "gb_param_grid = {'n_estimators' : [50, 100, 150],\n",
    "                 'learning_rate': [0.1, 0.05, 0.01], 'max_depth': [4, 8],\n",
    "                 'max_features': [0.3, 0.1]}\n",
    "\n",
    "gsGBC_2 = GridSearchCV(model_cv, param_grid = gb_param_grid, cv=None, scoring=\"precision\", n_jobs= 4, verbose = 1)\n",
    "\n",
    "gsGBC_2.fit(X_train_2, Y_train_2)\n",
    "\n",
    "# GBC_best = gsGBC.best_estimator_\n",
    "# Best score\n",
    "gsGBC_2.best_score_"
   ]
  },
  {
   "cell_type": "code",
   "execution_count": 143,
   "id": "1eaf05e2",
   "metadata": {},
   "outputs": [
    {
     "data": {
      "text/plain": [
       "GradientBoostingClassifier(max_depth=4, max_features=0.1, n_estimators=50)"
      ]
     },
     "execution_count": 143,
     "metadata": {},
     "output_type": "execute_result"
    }
   ],
   "source": [
    "gsGBC_2.best_estimator_"
   ]
  },
  {
   "cell_type": "code",
   "execution_count": 170,
   "id": "efc9b504",
   "metadata": {},
   "outputs": [
    {
     "data": {
      "text/plain": [
       "0.8130261169868336"
      ]
     },
     "metadata": {},
     "output_type": "display_data"
    },
    {
     "data": {
      "text/plain": [
       "0.8437944985647448"
      ]
     },
     "metadata": {},
     "output_type": "display_data"
    },
    {
     "data": {
      "text/plain": [
       "0.9146413171305371"
      ]
     },
     "metadata": {},
     "output_type": "display_data"
    },
    {
     "data": {
      "text/plain": [
       "0.8777907099777802"
      ]
     },
     "metadata": {},
     "output_type": "display_data"
    }
   ],
   "source": [
    "pred_tmp = gsGBC_2.predict(X_test_2)\n",
    "\n",
    "op(accuracy_score(Y_test_2, pred_tmp),\n",
    "  precision_score(Y_test_2, pred_tmp),\n",
    "  recall_score(Y_test_2, pred_tmp),\n",
    "  f1_score(Y_test_2, pred_tmp))"
   ]
  },
  {
   "cell_type": "code",
   "execution_count": 171,
   "id": "7e3d21a6",
   "metadata": {},
   "outputs": [
    {
     "data": {
      "image/png": "[encoded data removed]",
      "text/plain": [
       "<Figure size 432x288 with 2 Axes>"
      ]
     },
     "metadata": {
      "needs_background": "light"
     },
     "output_type": "display_data"
    }
   ],
   "source": [
    "plot_confusion_matrix(gsGBC_2.best_estimator_, X_test_2, Y_test_2)\n",
    "plt.show()"
   ]
  },
  {
   "cell_type": "code",
   "execution_count": 175,
   "id": "0a8d0754",
   "metadata": {},
   "outputs": [
    {
     "data": {
      "image/png": "[encoded data removed]",
      "text/plain": [
       "<Figure size 1080x576 with 1 Axes>"
      ]
     },
     "metadata": {
      "needs_background": "light"
     },
     "output_type": "display_data"
    }
   ],
   "source": [
    "concat_features = ['bin', 'drug', 'reject_code', 'correct_diagnosis', 'tried_and_failed', 'contraindication']\n",
    "\n",
    "fig, ax = plt.subplots(figsize = (15, 8))\n",
    "\n",
    "bars = sns.barplot(concat_features, gsGBC_2.best_estimator_.feature_importances_, color ='purple')\n",
    "bars.bar_label(bars.containers[0], fontsize = 15)\n",
    "ax.set_xlabel('Features', fontsize = 14)\n",
    "ax.set_ylabel('Importance', fontsize = 14)\n",
    "\n",
    "plt.show()"
   ]
  },
  {
   "cell_type": "code",
   "execution_count": null,
   "id": "1efb3553",
   "metadata": {},
   "outputs": [],
   "source": []
  },
  {
   "cell_type": "code",
   "execution_count": null,
   "id": "e6ec3bb7",
   "metadata": {},
   "outputs": [],
   "source": []
  },
  {
   "cell_type": "code",
   "execution_count": null,
   "id": "a6e2ea36",
   "metadata": {},
   "outputs": [],
   "source": []
  },
  {
   "cell_type": "code",
   "execution_count": null,
   "id": "87fb5ea7",
   "metadata": {},
   "outputs": [],
   "source": []
  },
  {
   "cell_type": "code",
   "execution_count": null,
   "id": "62f80ca7",
   "metadata": {},
   "outputs": [],
   "source": []
  },
  {
   "cell_type": "code",
   "execution_count": null,
   "id": "ed8b0a6d",
   "metadata": {},
   "outputs": [],
   "source": []
  },
  {
   "cell_type": "code",
   "execution_count": 178,
   "id": "de11c829",
   "metadata": {},
   "outputs": [],
   "source": [
    "import keras\n",
    "\n",
    "## import things\n",
    "from keras import models\n",
    "from keras import layers\n",
    "from keras import optimizers\n",
    "from keras import losses\n",
    "from keras import metrics\n",
    "from keras.utils.np_utils import to_categorical"
   ]
  },
  {
   "cell_type": "code",
   "execution_count": 442,
   "id": "04982879",
   "metadata": {},
   "outputs": [],
   "source": [
    "del model_NN\n",
    "keras.backend.clear_session()"
   ]
  },
  {
   "cell_type": "code",
   "execution_count": 443,
   "id": "e6367826",
   "metadata": {},
   "outputs": [],
   "source": [
    "## we first make an empty model\n",
    "## Sequential means we'll make a group\n",
    "## of a linear stack of layers\n",
    "model_NN = models.Sequential()"
   ]
  },
  {
   "cell_type": "code",
   "execution_count": 416,
   "id": "14708d65",
   "metadata": {},
   "outputs": [],
   "source": [
    "# ###### ONLY RUN THIS ONCE! ##########\n",
    "\n",
    "# ## you add a layer with .add()\n",
    "# ## A Dense layer means a fully connected feedforward layer\n",
    "# ## the 16 means the layer is 16 nodes tall\n",
    "# ## activation='relu' means the layer uses a relu activation function\n",
    "# ## the first layer needs to be told the shape of the input data\n",
    "# model_NN.add(layers.Dense(16, activation='relu', input_dim = 6, kernel_initializer = 'uniform'))\n",
    "\n",
    "# model_NN.add(layers.Dense(16, activation='relu', kernel_initializer = 'uniform'))\n",
    "\n",
    "# # finally we add the output layer\n",
    "# # this will have a single node, representing a probability\n",
    "# # that the observation has positive sentiment\n",
    "# # this is why the activation is a softmax\n",
    "# # for more information on the softmax see the Practice Problems\n",
    "# model_NN.add(layers.Dense(2, activation='softmax', kernel_initializer = 'uniform'))"
   ]
  },
  {
   "cell_type": "code",
   "execution_count": 444,
   "id": "12346788",
   "metadata": {},
   "outputs": [],
   "source": [
    "###### ONLY RUN THIS ONCE! ##########\n",
    "\n",
    "## you add a layer with .add()\n",
    "## A Dense layer means a fully connected feedforward layer\n",
    "## the 16 means the layer is 16 nodes tall\n",
    "## activation='relu' means the layer uses a relu activation function\n",
    "## the first layer needs to be told the shape of the input data\n",
    "model_NN.add(layers.Dense(16, activation='relu', input_dim = 6, kernel_initializer = 'uniform'))\n",
    "\n",
    "model_NN.add(layers.Dense(16, activation='relu', kernel_initializer = 'uniform'))\n",
    "\n",
    "model_NN.add(layers.Dense(16, activation='relu', kernel_initializer = 'uniform'))\n",
    "\n",
    "# finally we add the output layer\n",
    "# this will have a single node, representing a probability\n",
    "# that the observation has positive sentiment\n",
    "# this is why the activation is a softmax\n",
    "# for more information on the softmax see the Practice Problems\n",
    "model_NN.add(layers.Dense(2, activation='softmax', kernel_initializer = 'uniform'))"
   ]
  },
  {
   "cell_type": "code",
   "execution_count": 445,
   "id": "0e3245e9",
   "metadata": {},
   "outputs": [
    {
     "name": "stdout",
     "output_type": "stream",
     "text": [
      "Model: \"sequential\"\n",
      "_________________________________________________________________\n",
      " Layer (type)                Output Shape              Param #   \n",
      "=================================================================\n",
      " dense (Dense)               (None, 16)                112       \n",
      "                                                                 \n",
      " dense_1 (Dense)             (None, 16)                272       \n",
      "                                                                 \n",
      " dense_2 (Dense)             (None, 16)                272       \n",
      "                                                                 \n",
      " dense_3 (Dense)             (None, 2)                 34        \n",
      "                                                                 \n",
      "=================================================================\n",
      "Total params: 690\n",
      "Trainable params: 690\n",
      "Non-trainable params: 0\n",
      "_________________________________________________________________\n"
     ]
    }
   ],
   "source": [
    "model_NN.summary()"
   ]
  },
  {
   "cell_type": "code",
   "execution_count": 446,
   "id": "94e65085",
   "metadata": {},
   "outputs": [],
   "source": [
    "# from keras.optimizers import SGD\n",
    "# sgd = SGD(lr = 0.01, momentum = 0.9)\n",
    "\n",
    "## we compile the network like so\n",
    "## call .compile\n",
    "## set our optimizer, optimizer='rmsprop'\n",
    "## set our loss, loss='categorical_crossentropy'\n",
    "## set our desired metrics, metrics=['accuracy']\n",
    "model_NN.compile(optimizer='rmsprop', \n",
    "                 loss='binary_crossentropy',\n",
    "                 metrics=['accuracy'])"
   ]
  },
  {
   "cell_type": "code",
   "execution_count": 447,
   "id": "74c9362b",
   "metadata": {},
   "outputs": [],
   "source": [
    "X_train_2_train, X_val, Y_train_2_train, Y_val = train_test_split(X_train_2.copy(), Y_train_2.copy(),\n",
    "                                                                  test_size=.2,\n",
    "                                                                  shuffle=True,\n",
    "                                                                  stratify=Y_train_2,\n",
    "                                                                  random_state=440)"
   ]
  },
  {
   "cell_type": "code",
   "execution_count": 448,
   "id": "b6f08f6a",
   "metadata": {},
   "outputs": [
    {
     "name": "stdout",
     "output_type": "stream",
     "text": [
      "Epoch 1/10\n",
      "6672/6672 - 8s - loss: 0.4199 - accuracy: 0.8069 - val_loss: 0.3950 - val_accuracy: 0.8141 - 8s/epoch - 1ms/step\n",
      "Epoch 2/10\n",
      "6672/6672 - 6s - loss: 0.3817 - accuracy: 0.8119 - val_loss: 0.3745 - val_accuracy: 0.8156 - 6s/epoch - 947us/step\n",
      "Epoch 3/10\n",
      "6672/6672 - 6s - loss: 0.3766 - accuracy: 0.8122 - val_loss: 0.3746 - val_accuracy: 0.8108 - 6s/epoch - 928us/step\n",
      "Epoch 4/10\n",
      "6672/6672 - 6s - loss: 0.3760 - accuracy: 0.8122 - val_loss: 0.3751 - val_accuracy: 0.8153 - 6s/epoch - 935us/step\n",
      "Epoch 5/10\n",
      "6672/6672 - 6s - loss: 0.3757 - accuracy: 0.8127 - val_loss: 0.3729 - val_accuracy: 0.8152 - 6s/epoch - 932us/step\n",
      "Epoch 6/10\n",
      "6672/6672 - 6s - loss: 0.3755 - accuracy: 0.8127 - val_loss: 0.3711 - val_accuracy: 0.8153 - 6s/epoch - 929us/step\n",
      "Epoch 7/10\n",
      "6672/6672 - 6s - loss: 0.3752 - accuracy: 0.8126 - val_loss: 0.3728 - val_accuracy: 0.8155 - 6s/epoch - 927us/step\n",
      "Epoch 8/10\n",
      "6672/6672 - 6s - loss: 0.3751 - accuracy: 0.8126 - val_loss: 0.3773 - val_accuracy: 0.8124 - 6s/epoch - 936us/step\n",
      "Epoch 9/10\n",
      "6672/6672 - 6s - loss: 0.3750 - accuracy: 0.8127 - val_loss: 0.3713 - val_accuracy: 0.8161 - 6s/epoch - 927us/step\n",
      "Epoch 10/10\n",
      "6672/6672 - 6s - loss: 0.3750 - accuracy: 0.8132 - val_loss: 0.3752 - val_accuracy: 0.8154 - 6s/epoch - 927us/step\n"
     ]
    }
   ],
   "source": [
    "history = model_NN.fit(X_train_2_train, to_categorical(Y_train_2_train), \n",
    "                       batch_size = 60, \n",
    "                       epochs = 10, verbose=2,\n",
    "                       validation_data = (X_val, to_categorical(Y_val)))"
   ]
  },
  {
   "cell_type": "code",
   "execution_count": null,
   "id": "673f8085",
   "metadata": {},
   "outputs": [],
   "source": []
  },
  {
   "cell_type": "code",
   "execution_count": 453,
   "id": "5b4def87",
   "metadata": {},
   "outputs": [
    {
     "data": {
      "image/png": "[encoded data removed]",
      "text/plain": [
       "<Figure size 720x432 with 1 Axes>"
      ]
     },
     "metadata": {
      "needs_background": "light"
     },
     "output_type": "display_data"
    },
    {
     "data": {
      "image/png": "[encoded data removed]",
      "text/plain": [
       "<Figure size 720x432 with 1 Axes>"
      ]
     },
     "metadata": {
      "needs_background": "light"
     },
     "output_type": "display_data"
    }
   ],
   "source": [
    "history_dict = history.history\n",
    "\n",
    "n_epochs = 10\n",
    "\n",
    "plt.figure(figsize = (10,6))\n",
    "\n",
    "plt.plot(range(1,n_epochs+1), history_dict['accuracy'], marker='o', label = \"Training Accuracy\")\n",
    "plt.plot(range(1,n_epochs+1), history_dict['val_accuracy'], marker='v', label = \"Validation Set Accuracy\")\n",
    "\n",
    "plt.xlabel(\"Epoch\", fontsize=18)\n",
    "plt.ylabel(\"Accuracy\", fontsize=18)\n",
    "\n",
    "plt.xticks(fontsize=16)\n",
    "plt.yticks(fontsize=16)\n",
    "\n",
    "plt.legend(fontsize=18)\n",
    "\n",
    "plt.show()\n",
    "\n",
    "\n",
    "plt.figure(figsize = (10,6))\n",
    "\n",
    "plt.plot(range(1,n_epochs+1), history_dict['loss'], marker='o', label = \"Training Loss\")\n",
    "plt.plot(range(1,n_epochs+1), history_dict['val_loss'], marker='v', label = \"Validation Set Loss\")\n",
    "\n",
    "plt.xlabel(\"Epoch\", fontsize=18)\n",
    "plt.ylabel(\"Loss Function Value\", fontsize=18)\n",
    "\n",
    "plt.xticks(fontsize=16)\n",
    "plt.yticks(fontsize=16)\n",
    "\n",
    "plt.legend(fontsize=18)\n",
    "\n",
    "plt.show()"
   ]
  },
  {
   "cell_type": "code",
   "execution_count": 450,
   "id": "5c2b6fba",
   "metadata": {},
   "outputs": [
    {
     "name": "stdout",
     "output_type": "stream",
     "text": [
      "1738/1738 [==============================] - 1s 746us/step\n"
     ]
    },
    {
     "data": {
      "text/plain": [
       "0.8134757896251529"
      ]
     },
     "metadata": {},
     "output_type": "display_data"
    },
    {
     "data": {
      "text/plain": [
       "0.8573641955021363"
      ]
     },
     "metadata": {},
     "output_type": "display_data"
    },
    {
     "data": {
      "text/plain": [
       "0.894796158369267"
      ]
     },
     "metadata": {},
     "output_type": "display_data"
    },
    {
     "data": {
      "text/plain": [
       "0.8756803414294962"
      ]
     },
     "metadata": {},
     "output_type": "display_data"
    }
   ],
   "source": [
    "pred_NN_prob = model_NN.predict(X_test_2)\n",
    "\n",
    "pred_NN = np.argmax(pred_NN_prob, axis = 1)\n",
    "\n",
    "op(accuracy_score(Y_test_2, pred_NN),\n",
    "  precision_score(Y_test_2, pred_NN),\n",
    "  recall_score(Y_test_2, pred_NN),\n",
    "  f1_score(Y_test_2, pred_NN))"
   ]
  },
  {
   "cell_type": "code",
   "execution_count": 456,
   "id": "223a29cf",
   "metadata": {},
   "outputs": [
    {
     "data": {
      "text/plain": [
       "array([1, 1, 1, 0, 0, 1, 0, 0, 0, 1, 1, 0, 1, 0, 1, 0, 1, 0, 1, 1, 1, 1,\n",
       "       1, 1, 0, 1, 1, 1, 1, 0, 1, 1, 1, 1, 1, 0, 0, 1, 0, 1, 1, 0, 1, 1,\n",
       "       0, 0, 0, 1, 1, 1, 1, 1, 1, 1, 1, 1, 1, 1, 1, 0, 0, 1, 1, 1, 1, 1,\n",
       "       1, 1, 1, 1, 1, 1, 1, 1, 1, 1, 0, 1, 1, 1, 1, 0, 1, 1, 1, 1, 1, 0,\n",
       "       1, 1, 0, 1, 1, 0, 1, 1, 1, 0, 1, 0])"
      ]
     },
     "execution_count": 456,
     "metadata": {},
     "output_type": "execute_result"
    }
   ],
   "source": [
    "pred_NN[0:100]"
   ]
  },
  {
   "cell_type": "code",
   "execution_count": 458,
   "id": "4c99bf81",
   "metadata": {},
   "outputs": [
    {
     "data": {
      "text/plain": [
       "array([1, 1, 1, 0, 1, 1, 0, 0, 0, 1, 0, 0, 1, 0, 1, 0, 1, 0, 1, 1, 1, 1,\n",
       "       1, 1, 0, 1, 0, 1, 0, 0, 1, 1, 1, 1, 1, 1, 1, 1, 0, 1, 1, 0, 1, 1,\n",
       "       0, 0, 0, 1, 1, 1, 1, 1, 1, 1, 1, 1, 0, 1, 1, 1, 0, 1, 1, 1, 0, 1,\n",
       "       1, 0, 1, 0, 1, 1, 1, 1, 1, 1, 0, 1, 1, 1, 0, 1, 1, 1, 1, 0, 1, 0,\n",
       "       1, 0, 0, 1, 1, 1, 1, 1, 1, 1, 1, 0])"
      ]
     },
     "execution_count": 458,
     "metadata": {},
     "output_type": "execute_result"
    }
   ],
   "source": [
    "Y_test_2.values[0:100]"
   ]
  },
  {
   "cell_type": "code",
   "execution_count": null,
   "id": "251e8cfd",
   "metadata": {},
   "outputs": [],
   "source": []
  },
  {
   "cell_type": "code",
   "execution_count": 460,
   "id": "5cf02161",
   "metadata": {},
   "outputs": [],
   "source": [
    "import tensorflow as tf"
   ]
  },
  {
   "cell_type": "code",
   "execution_count": 464,
   "id": "f20c5a7e",
   "metadata": {},
   "outputs": [
    {
     "name": "stdout",
     "output_type": "stream",
     "text": [
      "Device mapping: no known devices.\n"
     ]
    }
   ],
   "source": [
    "sess = tf.compat.v1.Session(config=tf.compat.v1.ConfigProto(log_device_placement=True))"
   ]
  },
  {
   "cell_type": "code",
   "execution_count": null,
   "id": "c0ef200c",
   "metadata": {},
   "outputs": [],
   "source": []
  },
  {
   "cell_type": "code",
   "execution_count": null,
   "id": "a1789298",
   "metadata": {},
   "outputs": [],
   "source": []
  },
  {
   "cell_type": "code",
   "execution_count": 459,
   "id": "698605ef",
   "metadata": {},
   "outputs": [],
   "source": [
    "model_NN.save('./Trained_neural_networks/model_NN.h5')"
   ]
  },
  {
   "cell_type": "code",
   "execution_count": 311,
   "id": "9e94ed0d",
   "metadata": {},
   "outputs": [],
   "source": [
    "## import load_model from keras.models\n",
    "from keras.models import load_model\n",
    "\n",
    "model_NN = load_model('./Trained_neural_networks/model_NN.h5')"
   ]
  },
  {
   "cell_type": "code",
   "execution_count": null,
   "id": "44d5006f",
   "metadata": {},
   "outputs": [],
   "source": []
  },
  {
   "cell_type": "code",
   "execution_count": null,
   "id": "18730571",
   "metadata": {},
   "outputs": [],
   "source": []
  },
  {
   "cell_type": "code",
   "execution_count": null,
   "id": "34495920",
   "metadata": {},
   "outputs": [],
   "source": []
  },
  {
   "cell_type": "code",
   "execution_count": null,
   "id": "a5caf631",
   "metadata": {},
   "outputs": [],
   "source": []
  },
  {
   "cell_type": "code",
   "execution_count": 736,
   "id": "76091bf9",
   "metadata": {},
   "outputs": [],
   "source": [
    "bin_list = [1,2,3,4]\n",
    "drug_list = [1,2,3]\n",
    "reject_code_list = [1.0, 2.0,  3.0]\n",
    "correct_diagnosis_list = [0, 1]\n",
    "tried_and_failed_list = [0, 1]\n",
    "contraindication_list = [0, 1]\n",
    "\n",
    "\n",
    "all_realization = np.array(np.meshgrid(bin_list, drug_list, reject_code_list, \n",
    "                     correct_diagnosis_list, tried_and_failed_list, contraindication_list)).T.reshape(-1,6)\n",
    "\n",
    "all_realization = [list(x) for x in all_realization]"
   ]
  },
  {
   "cell_type": "code",
   "execution_count": 737,
   "id": "e3af5e73",
   "metadata": {},
   "outputs": [],
   "source": [
    "tmp_data_list = [list(x) for x in tmp_data.drop('pa_approved', axis = 1).values]\n",
    "\n",
    "X_train_realization = []\n",
    "for i in range(len(tmp_data_list)):\n",
    "    X_train_realization.append(all_realization.index(tmp_data_list[i]))\n",
    "    \n",
    "Y_train = tmp_data['pa_approved']"
   ]
  },
  {
   "cell_type": "code",
   "execution_count": 812,
   "id": "78a8c8ee",
   "metadata": {},
   "outputs": [],
   "source": [
    "X_0 = X_train_realization\n",
    "Y_0 = Y_train\n",
    "\n",
    "X_train_r, X_test_r, Y_train_r, Y_test_r = train_test_split(X_0.copy(), Y_0.copy(),\n",
    "                                                                  test_size=.1,\n",
    "                                                                  shuffle=True,\n",
    "                                                                  stratify=X_0,\n",
    "                                                                  random_state=2)"
   ]
  },
  {
   "cell_type": "code",
   "execution_count": 813,
   "id": "ffa5716e",
   "metadata": {},
   "outputs": [
    {
     "data": {
      "image/png": "[encoded data removed]",
      "text/plain": [
       "<Figure size 432x288 with 1 Axes>"
      ]
     },
     "metadata": {
      "needs_background": "light"
     },
     "output_type": "display_data"
    }
   ],
   "source": [
    "plt.hist(X_train_r, density = True, color = 'lightcoral')\n",
    "plt.hist(X_test_r, density = True, edgecolor = 'blue', histtype='step', hatch = '//')\n",
    "plt.show()"
   ]
  },
  {
   "cell_type": "code",
   "execution_count": 814,
   "id": "44bbe056",
   "metadata": {},
   "outputs": [
    {
     "data": {
      "text/html": [
       "<div>\n",
       "<style scoped>\n",
       "    .dataframe tbody tr th:only-of-type {\n",
       "        vertical-align: middle;\n",
       "    }\n",
       "\n",
       "    .dataframe tbody tr th {\n",
       "        vertical-align: top;\n",
       "    }\n",
       "\n",
       "    .dataframe thead th {\n",
       "        text-align: right;\n",
       "    }\n",
       "</style>\n",
       "<table border=\"1\" class=\"dataframe\">\n",
       "  <thead>\n",
       "    <tr style=\"text-align: right;\">\n",
       "      <th></th>\n",
       "      <th>realizations</th>\n",
       "      <th>pa_approved</th>\n",
       "    </tr>\n",
       "  </thead>\n",
       "  <tbody>\n",
       "    <tr>\n",
       "      <th>216273</th>\n",
       "      <td>0</td>\n",
       "      <td>1</td>\n",
       "    </tr>\n",
       "    <tr>\n",
       "      <th>227005</th>\n",
       "      <td>0</td>\n",
       "      <td>0</td>\n",
       "    </tr>\n",
       "    <tr>\n",
       "      <th>33641</th>\n",
       "      <td>0</td>\n",
       "      <td>0</td>\n",
       "    </tr>\n",
       "    <tr>\n",
       "      <th>480290</th>\n",
       "      <td>0</td>\n",
       "      <td>0</td>\n",
       "    </tr>\n",
       "    <tr>\n",
       "      <th>21503</th>\n",
       "      <td>0</td>\n",
       "      <td>0</td>\n",
       "    </tr>\n",
       "    <tr>\n",
       "      <th>...</th>\n",
       "      <td>...</td>\n",
       "      <td>...</td>\n",
       "    </tr>\n",
       "    <tr>\n",
       "      <th>454674</th>\n",
       "      <td>287</td>\n",
       "      <td>1</td>\n",
       "    </tr>\n",
       "    <tr>\n",
       "      <th>453242</th>\n",
       "      <td>287</td>\n",
       "      <td>1</td>\n",
       "    </tr>\n",
       "    <tr>\n",
       "      <th>447386</th>\n",
       "      <td>287</td>\n",
       "      <td>1</td>\n",
       "    </tr>\n",
       "    <tr>\n",
       "      <th>232227</th>\n",
       "      <td>287</td>\n",
       "      <td>0</td>\n",
       "    </tr>\n",
       "    <tr>\n",
       "      <th>402829</th>\n",
       "      <td>287</td>\n",
       "      <td>1</td>\n",
       "    </tr>\n",
       "  </tbody>\n",
       "</table>\n",
       "<p>500355 rows × 2 columns</p>\n",
       "</div>"
      ],
      "text/plain": [
       "        realizations  pa_approved\n",
       "216273             0            1\n",
       "227005             0            0\n",
       "33641              0            0\n",
       "480290             0            0\n",
       "21503              0            0\n",
       "...              ...          ...\n",
       "454674           287            1\n",
       "453242           287            1\n",
       "447386           287            1\n",
       "232227           287            0\n",
       "402829           287            1\n",
       "\n",
       "[500355 rows x 2 columns]"
      ]
     },
     "execution_count": 814,
     "metadata": {},
     "output_type": "execute_result"
    }
   ],
   "source": [
    "df_tmp = pd.DataFrame({'realizations': X_train_r.copy(), 'pa_approved': Y_train_r.copy()})\n",
    "df_tmp = df_tmp.sort_values('realizations')\n",
    "\n",
    "df_tmp"
   ]
  },
  {
   "cell_type": "code",
   "execution_count": 816,
   "id": "45e89dd4",
   "metadata": {},
   "outputs": [],
   "source": [
    "tmp_count = df_tmp['realizations'].value_counts(sort=False)\n",
    "tmp_count_app = df_tmp['realizations'][df_tmp['pa_approved']==1].value_counts(sort=False)\n",
    "\n",
    "# tmp_count = df_tmp['realizations'].value_counts()\n",
    "# tmp_count_app = df_tmp['realizations'][df_tmp['pa_approved']==1].value_counts()"
   ]
  },
  {
   "cell_type": "code",
   "execution_count": 819,
   "id": "7036fab8",
   "metadata": {},
   "outputs": [
    {
     "data": {
      "image/png": "[encoded data removed]",
      "text/plain": [
       "<Figure size 432x288 with 1 Axes>"
      ]
     },
     "metadata": {
      "needs_background": "light"
     },
     "output_type": "display_data"
    }
   ],
   "source": [
    "plt.plot(tmp_count.index, tmp_count_app/tmp_count)\n",
    "plt.scatter(tmp_count.index, tmp_count_app/tmp_count)\n",
    "\n",
    "plt.show()"
   ]
  },
  {
   "cell_type": "code",
   "execution_count": 820,
   "id": "eefeb393",
   "metadata": {},
   "outputs": [
    {
     "data": {
      "text/plain": [
       "0      0.503655\n",
       "5      0.217706\n",
       "7      0.291549\n",
       "13     0.979203\n",
       "15     0.995208\n",
       "         ...   \n",
       "280    0.829412\n",
       "282    0.825417\n",
       "285    0.925609\n",
       "286    0.849304\n",
       "287    0.580000\n",
       "Name: realizations, Length: 96, dtype: float64"
      ]
     },
     "execution_count": 820,
     "metadata": {},
     "output_type": "execute_result"
    }
   ],
   "source": [
    "tmp = tmp_count_app/tmp_count\n",
    "tmp"
   ]
  },
  {
   "cell_type": "code",
   "execution_count": 946,
   "id": "8c5a133a",
   "metadata": {},
   "outputs": [],
   "source": [
    "pred_base = []\n",
    "for i in range(len(X_test_r)):\n",
    "    r_i = X_test_r[i]\n",
    "    pred_base.append(np.argmax([1-tmp[r_i], tmp[r_i]]))"
   ]
  },
  {
   "cell_type": "code",
   "execution_count": 947,
   "id": "841a2183",
   "metadata": {},
   "outputs": [
    {
     "data": {
      "text/plain": [
       "0.8154003885171595"
      ]
     },
     "metadata": {},
     "output_type": "display_data"
    },
    {
     "data": {
      "text/plain": [
       "0.8330251680407214"
      ]
     },
     "metadata": {},
     "output_type": "display_data"
    },
    {
     "data": {
      "text/plain": [
       "0.936720317009931"
      ]
     },
     "metadata": {},
     "output_type": "display_data"
    },
    {
     "data": {
      "text/plain": [
       "0.8818348243583986"
      ]
     },
     "metadata": {},
     "output_type": "display_data"
    }
   ],
   "source": [
    "op(accuracy_score(Y_test_r, pred_base),\n",
    "  precision_score(Y_test_r, pred_base),\n",
    "  recall_score(Y_test_r, pred_base),\n",
    "  f1_score(Y_test_r, pred_base))"
   ]
  },
  {
   "cell_type": "code",
   "execution_count": null,
   "id": "f18126aa",
   "metadata": {},
   "outputs": [],
   "source": []
  },
  {
   "cell_type": "code",
   "execution_count": null,
   "id": "a882cd5f",
   "metadata": {},
   "outputs": [],
   "source": []
  },
  {
   "cell_type": "code",
   "execution_count": 944,
   "id": "0bef5611",
   "metadata": {},
   "outputs": [],
   "source": [
    "pred_base = []\n",
    "for i in range(len(X_test_r)):\n",
    "    r_i = X_test_r[i]\n",
    "    pred_base.append(np.random.choice(np.array([0, 1]), p=[1-tmp[r_i], tmp[r_i]]))"
   ]
  },
  {
   "cell_type": "code",
   "execution_count": 945,
   "id": "928eae5b",
   "metadata": {},
   "outputs": [
    {
     "data": {
      "text/plain": [
       "0.7556119145262249"
      ]
     },
     "metadata": {},
     "output_type": "display_data"
    },
    {
     "data": {
      "text/plain": [
       "0.8336389194475003"
      ]
     },
     "metadata": {},
     "output_type": "display_data"
    },
    {
     "data": {
      "text/plain": [
       "0.834107920356147"
      ]
     },
     "metadata": {},
     "output_type": "display_data"
    },
    {
     "data": {
      "text/plain": [
       "0.8338733539560078"
      ]
     },
     "metadata": {},
     "output_type": "display_data"
    }
   ],
   "source": [
    "op(accuracy_score(Y_test_r, pred_base),\n",
    "  precision_score(Y_test_r, pred_base),\n",
    "  recall_score(Y_test_r, pred_base),\n",
    "  f1_score(Y_test_r, pred_base))"
   ]
  },
  {
   "cell_type": "code",
   "execution_count": null,
   "id": "d90e6f04",
   "metadata": {},
   "outputs": [],
   "source": []
  }
 ],
 "metadata": {
  "kernelspec": {
   "display_name": "Python 3 (ipykernel)",
   "language": "python",
   "name": "python3"
  },
  "language_info": {
   "codemirror_mode": {
    "name": "ipython",
    "version": 3
   },
   "file_extension": ".py",
   "mimetype": "text/x-python",
   "name": "python",
   "nbconvert_exporter": "python",
   "pygments_lexer": "ipython3",
   "version": "3.9.12"
  }
 },
 "nbformat": 4,
 "nbformat_minor": 5
}
