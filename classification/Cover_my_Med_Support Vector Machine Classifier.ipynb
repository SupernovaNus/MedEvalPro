{
 "cells": [
  {
   "cell_type": "code",
   "execution_count": 26,
   "metadata": {},
   "outputs": [],
   "source": [
    "import pandas as pd\n",
    "import numpy as np\n",
    "import matplotlib.pyplot as plt\n",
    "import seaborn as sns\n",
    "from sklearn.metrics import accuracy_score,confusion_matrix, PrecisionRecallDisplay,precision_recall_curve\n",
    "\n",
    "sns.set_style(\"whitegrid\")"
   ]
  },
  {
   "cell_type": "code",
   "execution_count": 27,
   "metadata": {},
   "outputs": [],
   "source": [
    "# We import the dataframe with the 8 features we are considering\n",
    "PA_df=pd.read_csv(\"cover_my_med_df.csv\")"
   ]
  },
  {
   "cell_type": "code",
   "execution_count": 28,
   "metadata": {},
   "outputs": [],
   "source": [
    "# In case we want to restrict the date to a smaller set\n",
    "PA_df=PA_df[:20]"
   ]
  },
  {
   "cell_type": "code",
   "execution_count": 29,
   "metadata": {},
   "outputs": [],
   "source": [
    "# Extract the features\n",
    "features= PA_df.columns[:-1]"
   ]
  },
  {
   "cell_type": "code",
   "execution_count": 30,
   "metadata": {},
   "outputs": [],
   "source": [
    "## import train_test_split\n",
    "from sklearn.model_selection import train_test_split"
   ]
  },
  {
   "cell_type": "code",
   "execution_count": 31,
   "metadata": {},
   "outputs": [],
   "source": [
    "## making a stratified train test split\n",
    "approval_train, approval_test = train_test_split(PA_df.copy(),\n",
    "                                              shuffle=True,\n",
    "                                              random_state=42,\n",
    "                                              test_size=.15,\n",
    "                                              stratify=PA_df.pa_approved.values)"
   ]
  },
  {
   "cell_type": "code",
   "execution_count": 32,
   "metadata": {},
   "outputs": [],
   "source": [
    "## import LinearSVC here\n",
    "from sklearn.svm import SVC\n",
    "from sklearn.svm import LinearSVC"
   ]
  },
  {
   "cell_type": "code",
   "execution_count": 33,
   "metadata": {},
   "outputs": [],
   "source": [
    "## import the correct kfold class\n",
    "from sklearn.model_selection import StratifiedKFold\n",
    "\n",
    "## import Pipeline and StandardScaler\n",
    "from sklearn.pipeline import Pipeline\n",
    "from sklearn.preprocessing import StandardScaler\n",
    "\n",
    "## import accuracy_score\n",
    "from sklearn.metrics import accuracy_score"
   ]
  },
  {
   "cell_type": "code",
   "execution_count": 34,
   "metadata": {},
   "outputs": [
    {
     "name": "stderr",
     "output_type": "stream",
     "text": [
      "/opt/anaconda3/lib/python3.8/site-packages/sklearn/model_selection/_split.py:670: UserWarning: The least populated class in y has only 6 members, which is less than n_splits=10.\n",
      "  warnings.warn((\"The least populated class in y has only %d\"\n"
     ]
    }
   ],
   "source": [
    "## set the number of CV folds\n",
    "n_splits = 10\n",
    "\n",
    "## Make the kfold object\n",
    "kfold = StratifiedKFold(n_splits, random_state=403, shuffle=True)\n",
    "\n",
    "## the values of C you will try\n",
    "Cs = [.01, .1, 1, 10, 25, 50, 75, 100, 125, 150]\n",
    "\n",
    "## this will hold the CV accuracies\n",
    "C_accs1 = np.zeros((n_splits, len(Cs)))\n",
    "\n",
    "\n",
    "## the cross-validation loop\n",
    "i = 0\n",
    "for train_index, test_index in kfold.split(approval_train, approval_train.pa_approved.values):\n",
    "    approval_tt = approval_train.iloc[train_index]\n",
    "    approval_ho = approval_train.iloc[test_index]\n",
    "    \n",
    "    j = 0\n",
    "    ## loop through all possible values of C\n",
    "    for C in Cs:\n",
    "        ## make the model, fit it and get the prediction \n",
    "        pipe = Pipeline([('scale', StandardScaler()),\n",
    "                            ('svm', SVC(C=C))])\n",
    "        pipe.fit(approval_tt[features],\n",
    "                    approval_tt.pa_approved)\n",
    "    \n",
    "        pred = pipe.predict(approval_ho[features])\n",
    "\n",
    "        C_accs1[i, j] = accuracy_score(approval_ho.pa_approved, pred)\n",
    "        \n",
    "\n",
    "        \n",
    "        j = j + 1\n",
    "    i = i + 1"
   ]
  },
  {
   "cell_type": "code",
   "execution_count": 23,
   "metadata": {},
   "outputs": [
    {
     "data": {
      "image/png": "[encoded data removed]",
      "text/plain": [
       "<Figure size 576x432 with 1 Axes>"
      ]
     },
     "metadata": {},
     "output_type": "display_data"
    }
   ],
   "source": [
    "plt.figure(figsize = (8,6))\n",
    "\n",
    "plt.plot(np.log10(np.array(Cs)), \n",
    "         np.mean(C_accs1, axis=0), \n",
    "         '-o')\n",
    "\n",
    "plt.xlabel(\"$\\log(C)$\", fontsize=16)\n",
    "plt.ylabel(\"Avg. CV Accuracy\", fontsize=16)\n",
    "plt.xticks(np.arange(-2,3,.5),fontsize=14)\n",
    "plt.yticks(fontsize=14)\n",
    "\n",
    "plt.show()"
   ]
  },
  {
   "cell_type": "markdown",
   "metadata": {},
   "source": [
    "We can refine the search based on the graph above and find the optimal values of $C$ as follows:"
   ]
  },
  {
   "cell_type": "code",
   "execution_count": 24,
   "metadata": {},
   "outputs": [
    {
     "name": "stderr",
     "output_type": "stream",
     "text": [
      "/opt/anaconda3/lib/python3.8/site-packages/sklearn/model_selection/_split.py:670: UserWarning: The least populated class in y has only 6 members, which is less than n_splits=10.\n",
      "  warnings.warn((\"The least populated class in y has only %d\"\n"
     ]
    }
   ],
   "source": [
    "## set the number of CV folds\n",
    "n_splits = 10\n",
    "\n",
    "## Make the kfold object\n",
    "kfold = StratifiedKFold(n_splits, random_state=403, shuffle=True)\n",
    "\n",
    "## the values of C you will try\n",
    "Cs = np.arange(10,51,1)\n",
    "\n",
    "## this will hold the CV accuracies\n",
    "C_accs2 = np.zeros((n_splits, len(Cs)))\n",
    "\n",
    "\n",
    "## the cross-validation loop\n",
    "i = 0\n",
    "for train_index, test_index in kfold.split(approval_train, approval_train.pa_approved.values):\n",
    "    approval_tt = approval_train.iloc[train_index]\n",
    "    approval_ho = approval_train.iloc[test_index]\n",
    "    \n",
    "    j = 0\n",
    "    ## loop through all possible values of C\n",
    "    for C in Cs:\n",
    "        ## make the model, fit it and get the prediction \n",
    "        pipe = Pipeline([('scale', StandardScaler()),\n",
    "                            ('svm', SVC(C=C))])\n",
    "        pipe.fit(approval_tt[features],\n",
    "                    approval_tt.pa_approved)\n",
    "    \n",
    "        pred = pipe.predict(approval_ho[features])\n",
    "\n",
    "        C_accs2[i, j] = accuracy_score(approval_ho.pa_approved, pred)\n",
    "        \n",
    "\n",
    "        \n",
    "        j = j + 1\n",
    "    i = i + 1"
   ]
  },
  {
   "cell_type": "code",
   "execution_count": 25,
   "metadata": {},
   "outputs": [
    {
     "data": {
      "image/png": "[encoded data removed]",
      "text/plain": [
       "<Figure size 576x432 with 1 Axes>"
      ]
     },
     "metadata": {},
     "output_type": "display_data"
    }
   ],
   "source": [
    "plt.figure(figsize = (8,6))\n",
    "\n",
    "plt.plot(Cs, \n",
    "         np.mean(C_accs2, axis=0), \n",
    "         '-o')\n",
    "\n",
    "plt.xlabel(\"$C$\", fontsize=16)\n",
    "plt.ylabel(\"Avg. CV Accuracy\", fontsize=16)\n",
    "plt.xticks(fontsize=14)\n",
    "plt.yticks(fontsize=14)\n",
    "\n",
    "plt.show()"
   ]
  },
  {
   "cell_type": "code",
   "execution_count": null,
   "metadata": {},
   "outputs": [],
   "source": []
  }
 ],
 "metadata": {
  "kernelspec": {
   "display_name": "Python 3",
   "language": "python",
   "name": "python3"
  },
  "language_info": {
   "codemirror_mode": {
    "name": "ipython",
    "version": 3
   },
   "file_extension": ".py",
   "mimetype": "text/x-python",
   "name": "python",
   "nbconvert_exporter": "python",
   "pygments_lexer": "ipython3",
   "version": "3.8.5"
  }
 },
 "nbformat": 4,
 "nbformat_minor": 4
}
