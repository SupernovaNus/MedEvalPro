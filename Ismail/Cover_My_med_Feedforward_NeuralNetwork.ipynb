{
 "cells": [
  {
   "cell_type": "code",
   "execution_count": 1,
   "metadata": {},
   "outputs": [],
   "source": [
    "import pandas as pd\n",
    "import numpy as np\n",
    "import matplotlib.pyplot as plt\n",
    "import seaborn as sns\n",
    "from sklearn.metrics import accuracy_score,confusion_matrix, PrecisionRecallDisplay,precision_recall_curve\n",
    "\n",
    "sns.set_style(\"whitegrid\")"
   ]
  },
  {
   "cell_type": "code",
   "execution_count": 2,
   "metadata": {},
   "outputs": [],
   "source": [
    "import tensorflow as tf"
   ]
  },
  {
   "cell_type": "code",
   "execution_count": 3,
   "metadata": {},
   "outputs": [],
   "source": [
    "# We import the dataframe with the 8 features we are considering\n",
    "df=pd.read_csv(\"cover_my_med_df.csv\")"
   ]
  },
  {
   "cell_type": "code",
   "execution_count": 4,
   "metadata": {},
   "outputs": [],
   "source": [
    "# We clean the dataframe\n",
    "df=df.drop('Unnamed: 0',axis=1)"
   ]
  },
  {
   "cell_type": "code",
   "execution_count": 23,
   "metadata": {},
   "outputs": [],
   "source": [
    "features= df.columns[:-1]"
   ]
  },
  {
   "cell_type": "code",
   "execution_count": 29,
   "metadata": {},
   "outputs": [
    {
     "data": {
      "text/plain": [
       "Index(['rejected_code', 'drug_type', 'correct_diagnosis', 'tried_and_failed',\n",
       "       'contraindication', 'is_holiday', 'is_weekday', 'is_workday'],\n",
       "      dtype='object')"
      ]
     },
     "execution_count": 29,
     "metadata": {},
     "output_type": "execute_result"
    }
   ],
   "source": [
    "features"
   ]
  },
  {
   "cell_type": "code",
   "execution_count": 5,
   "metadata": {},
   "outputs": [],
   "source": [
    "# Split the data:\n",
    "X=df.drop('pa_approved',axis=1).values\n",
    "y=df['pa_approved'].values"
   ]
  },
  {
   "cell_type": "code",
   "execution_count": 6,
   "metadata": {},
   "outputs": [],
   "source": [
    "# Perform a train-test split.\n",
    "from sklearn.model_selection import train_test_split\n",
    "X_train, X_test, y_train, y_test = train_test_split(X, y,\n",
    "                                               shuffle=True,\n",
    "                                               random_state=213,\n",
    "                                               test_size=.20)"
   ]
  },
  {
   "cell_type": "code",
   "execution_count": 7,
   "metadata": {},
   "outputs": [],
   "source": [
    "# Perform a validation-train split\n",
    "X_tt, X_val, y_tt, y_val = train_test_split(X, y,\n",
    "                                               shuffle=True,\n",
    "                                               random_state=213,\n",
    "                                               test_size=.15)"
   ]
  },
  {
   "cell_type": "markdown",
   "metadata": {},
   "source": [
    "Here we buold a feedforwardNeural Network model with two layers:"
   ]
  },
  {
   "cell_type": "code",
   "execution_count": 8,
   "metadata": {},
   "outputs": [],
   "source": [
    "## Important the relevant libraries\n",
    "from keras import models\n",
    "from keras import layers\n",
    "from keras import optimizers\n",
    "from keras import losses\n",
    "from keras import metrics\n",
    "from keras import Input\n",
    "from keras import Model\n",
    "\n",
    "## For y when training the network\n",
    "from keras.utils.np_utils import to_categorical"
   ]
  },
  {
   "cell_type": "code",
   "execution_count": 9,
   "metadata": {},
   "outputs": [
    {
     "name": "stdout",
     "output_type": "stream",
     "text": [
      "Epoch 1/40\n",
      "923/923 [==============================] - 3s 3ms/step - loss: 0.3950 - accuracy: 0.8057 - val_loss: 0.3730 - val_accuracy: 0.8148\n",
      "Epoch 2/40\n",
      "923/923 [==============================] - 3s 3ms/step - loss: 0.3746 - accuracy: 0.8132 - val_loss: 0.3729 - val_accuracy: 0.8150\n",
      "Epoch 3/40\n",
      "923/923 [==============================] - 3s 3ms/step - loss: 0.3740 - accuracy: 0.8138 - val_loss: 0.3718 - val_accuracy: 0.8150\n",
      "Epoch 4/40\n",
      "923/923 [==============================] - 2s 3ms/step - loss: 0.3738 - accuracy: 0.8134 - val_loss: 0.3714 - val_accuracy: 0.8149\n",
      "Epoch 5/40\n",
      "923/923 [==============================] - 3s 3ms/step - loss: 0.3736 - accuracy: 0.8135 - val_loss: 0.3727 - val_accuracy: 0.8144\n",
      "Epoch 6/40\n",
      "923/923 [==============================] - 3s 3ms/step - loss: 0.3735 - accuracy: 0.8136 - val_loss: 0.3735 - val_accuracy: 0.8138\n",
      "Epoch 7/40\n",
      "923/923 [==============================] - 3s 3ms/step - loss: 0.3735 - accuracy: 0.8133 - val_loss: 0.3737 - val_accuracy: 0.8138\n",
      "Epoch 8/40\n",
      "923/923 [==============================] - 2s 3ms/step - loss: 0.3733 - accuracy: 0.8136 - val_loss: 0.3714 - val_accuracy: 0.8150\n",
      "Epoch 9/40\n",
      "923/923 [==============================] - 3s 3ms/step - loss: 0.3733 - accuracy: 0.8136 - val_loss: 0.3727 - val_accuracy: 0.8139\n",
      "Epoch 10/40\n",
      "923/923 [==============================] - 3s 3ms/step - loss: 0.3732 - accuracy: 0.8137 - val_loss: 0.3714 - val_accuracy: 0.8146\n",
      "Epoch 11/40\n",
      "923/923 [==============================] - 2s 3ms/step - loss: 0.3732 - accuracy: 0.8137 - val_loss: 0.3713 - val_accuracy: 0.8146\n",
      "Epoch 12/40\n",
      "923/923 [==============================] - 3s 3ms/step - loss: 0.3732 - accuracy: 0.8137 - val_loss: 0.3718 - val_accuracy: 0.8151\n",
      "Epoch 13/40\n",
      "923/923 [==============================] - 3s 3ms/step - loss: 0.3731 - accuracy: 0.8138 - val_loss: 0.3723 - val_accuracy: 0.8146\n",
      "Epoch 14/40\n",
      "923/923 [==============================] - 3s 3ms/step - loss: 0.3730 - accuracy: 0.8137 - val_loss: 0.3716 - val_accuracy: 0.8143\n",
      "Epoch 15/40\n",
      "923/923 [==============================] - 3s 3ms/step - loss: 0.3730 - accuracy: 0.8137 - val_loss: 0.3721 - val_accuracy: 0.8137\n",
      "Epoch 16/40\n",
      "923/923 [==============================] - 2s 3ms/step - loss: 0.3730 - accuracy: 0.8136 - val_loss: 0.3731 - val_accuracy: 0.8144\n",
      "Epoch 17/40\n",
      "923/923 [==============================] - 3s 3ms/step - loss: 0.3731 - accuracy: 0.8138 - val_loss: 0.3715 - val_accuracy: 0.8139\n",
      "Epoch 18/40\n",
      "923/923 [==============================] - 2s 3ms/step - loss: 0.3730 - accuracy: 0.8135 - val_loss: 0.3712 - val_accuracy: 0.8151\n",
      "Epoch 19/40\n",
      "923/923 [==============================] - 3s 3ms/step - loss: 0.3730 - accuracy: 0.8139 - val_loss: 0.3719 - val_accuracy: 0.8143\n",
      "Epoch 20/40\n",
      "923/923 [==============================] - 3s 3ms/step - loss: 0.3730 - accuracy: 0.8138 - val_loss: 0.3724 - val_accuracy: 0.8150\n",
      "Epoch 21/40\n",
      "923/923 [==============================] - 3s 3ms/step - loss: 0.3729 - accuracy: 0.8136 - val_loss: 0.3718 - val_accuracy: 0.8144\n",
      "Epoch 22/40\n",
      "923/923 [==============================] - 3s 3ms/step - loss: 0.3730 - accuracy: 0.8137 - val_loss: 0.3725 - val_accuracy: 0.8150\n",
      "Epoch 23/40\n",
      "923/923 [==============================] - 3s 3ms/step - loss: 0.3730 - accuracy: 0.8135 - val_loss: 0.3716 - val_accuracy: 0.8151\n",
      "Epoch 24/40\n",
      "923/923 [==============================] - 3s 3ms/step - loss: 0.3729 - accuracy: 0.8137 - val_loss: 0.3714 - val_accuracy: 0.8151\n",
      "Epoch 25/40\n",
      "923/923 [==============================] - 3s 3ms/step - loss: 0.3729 - accuracy: 0.8137 - val_loss: 0.3714 - val_accuracy: 0.8151\n",
      "Epoch 26/40\n",
      "923/923 [==============================] - 3s 3ms/step - loss: 0.3729 - accuracy: 0.8135 - val_loss: 0.3713 - val_accuracy: 0.8139\n",
      "Epoch 27/40\n",
      "923/923 [==============================] - 3s 3ms/step - loss: 0.3729 - accuracy: 0.8135 - val_loss: 0.3715 - val_accuracy: 0.8147\n",
      "Epoch 28/40\n",
      "923/923 [==============================] - 2s 3ms/step - loss: 0.3729 - accuracy: 0.8135 - val_loss: 0.3715 - val_accuracy: 0.8150\n",
      "Epoch 29/40\n",
      "923/923 [==============================] - 2s 3ms/step - loss: 0.3730 - accuracy: 0.8134 - val_loss: 0.3718 - val_accuracy: 0.8150\n",
      "Epoch 30/40\n",
      "923/923 [==============================] - 3s 3ms/step - loss: 0.3729 - accuracy: 0.8137 - val_loss: 0.3713 - val_accuracy: 0.8143\n",
      "Epoch 31/40\n",
      "923/923 [==============================] - 2s 3ms/step - loss: 0.3729 - accuracy: 0.8137 - val_loss: 0.3746 - val_accuracy: 0.8147\n",
      "Epoch 32/40\n",
      "923/923 [==============================] - 2s 3ms/step - loss: 0.3729 - accuracy: 0.8137 - val_loss: 0.3714 - val_accuracy: 0.8142\n",
      "Epoch 33/40\n",
      "923/923 [==============================] - 3s 3ms/step - loss: 0.3729 - accuracy: 0.8137 - val_loss: 0.3714 - val_accuracy: 0.8143\n",
      "Epoch 34/40\n",
      "923/923 [==============================] - 3s 3ms/step - loss: 0.3729 - accuracy: 0.8138 - val_loss: 0.3714 - val_accuracy: 0.8149\n",
      "Epoch 35/40\n",
      "923/923 [==============================] - 3s 3ms/step - loss: 0.3729 - accuracy: 0.8137 - val_loss: 0.3718 - val_accuracy: 0.8141\n",
      "Epoch 36/40\n",
      "923/923 [==============================] - 3s 3ms/step - loss: 0.3729 - accuracy: 0.8137 - val_loss: 0.3716 - val_accuracy: 0.8146\n",
      "Epoch 37/40\n",
      "923/923 [==============================] - 3s 3ms/step - loss: 0.3728 - accuracy: 0.8137 - val_loss: 0.3716 - val_accuracy: 0.8148\n",
      "Epoch 38/40\n",
      "923/923 [==============================] - 3s 3ms/step - loss: 0.3729 - accuracy: 0.8136 - val_loss: 0.3721 - val_accuracy: 0.8140\n",
      "Epoch 39/40\n",
      "923/923 [==============================] - 4s 4ms/step - loss: 0.3728 - accuracy: 0.8139 - val_loss: 0.3713 - val_accuracy: 0.8141\n",
      "Epoch 40/40\n",
      "923/923 [==============================] - 3s 3ms/step - loss: 0.3729 - accuracy: 0.8138 - val_loss: 0.3712 - val_accuracy: 0.8148\n"
     ]
    }
   ],
   "source": [
    "## Create an empty model object here\n",
    "model1 =  models.Sequential() \n",
    "\n",
    "## Add the Dense layes with 50 nodes, 20 and 10 nodes:\n",
    "model1.add(layers.Dense(50, activation='relu', input_shape=(8,)))\n",
    "model1.add( layers.Dense(20, activation='relu'))\n",
    "\n",
    "\n",
    "## Add the Dense output layer.\n",
    "model1.add(layers.Dense(2, activation='softmax'))\n",
    "\n",
    "## Compile the network\n",
    "model1.compile(optimizer = 'rmsprop' ,\n",
    "                 loss = 'categorical_crossentropy' ,\n",
    "                 metrics = ['accuracy'] )\n",
    "\n",
    "## Train the model for 40 epochs\n",
    "n_epochs = 40\n",
    "\n",
    "## fit the model \n",
    "history1 = model1.fit(X_tt,\n",
    "                       to_categorical(y_tt),\n",
    "                       epochs = n_epochs,\n",
    "                       batch_size = 512,\n",
    "                       validation_data = (X_val, to_categorical(y_val)))\n",
    "\n"
   ]
  },
  {
   "cell_type": "code",
   "execution_count": 11,
   "metadata": {},
   "outputs": [
    {
     "name": "stdout",
     "output_type": "stream",
     "text": [
      "3475/3475 [==============================] - 5s 1ms/step\n"
     ]
    },
    {
     "data": {
      "text/plain": [
       "0.8150479805020191"
      ]
     },
     "execution_count": 11,
     "metadata": {},
     "output_type": "execute_result"
    }
   ],
   "source": [
    "#Print the accuracy score for the test data:\n",
    "accuracy_score (np.argmax(model1.predict(X_test), axis=1), y_test)"
   ]
  },
  {
   "cell_type": "code",
   "execution_count": 11,
   "metadata": {},
   "outputs": [
    {
     "name": "stdout",
     "output_type": "stream",
     "text": [
      "3475/3475 [==============================] - 5s 2ms/step\n"
     ]
    },
    {
     "data": {
      "text/plain": [
       "array([[17258,  8120],\n",
       "       [12453, 73360]])"
      ]
     },
     "execution_count": 11,
     "metadata": {},
     "output_type": "execute_result"
    }
   ],
   "source": [
    "# Print the confusion matrix\n",
    "confusion_matrix (np.argmax(model1.predict(X_test), axis=1), y_test)"
   ]
  },
  {
   "cell_type": "code",
   "execution_count": 15,
   "metadata": {},
   "outputs": [
    {
     "name": "stdout",
     "output_type": "stream",
     "text": [
      "3475/3475 [==============================] - 7s 2ms/step\n"
     ]
    }
   ],
   "source": [
    "# Predict on the test set:\n",
    "y_pred=np.argmax(model1.predict(X_test), axis=1)"
   ]
  },
  {
   "cell_type": "code",
   "execution_count": 16,
   "metadata": {},
   "outputs": [
    {
     "data": {
      "image/png": "[encoded data removed]",
      "text/plain": [
       "<Figure size 432x288 with 1 Axes>"
      ]
     },
     "metadata": {},
     "output_type": "display_data"
    }
   ],
   "source": [
    "# Plot the Precision-Recall curve.\n",
    "precision, recall, _ = precision_recall_curve(y_test, y_pred)\n",
    "disp = PrecisionRecallDisplay(precision=precision, recall=recall)\n",
    "disp.plot()\n",
    "plt.show()"
   ]
  },
  {
   "cell_type": "code",
   "execution_count": null,
   "metadata": {},
   "outputs": [],
   "source": [
    "# Compute the f_1 score:\n"
   ]
  },
  {
   "cell_type": "code",
   "execution_count": 17,
   "metadata": {},
   "outputs": [],
   "source": [
    "from sklearn.manifold import TSNE"
   ]
  },
  {
   "cell_type": "code",
   "execution_count": 26,
   "metadata": {},
   "outputs": [
    {
     "name": "stdout",
     "output_type": "stream",
     "text": [
      "3475/3475 [==============================] - 5s 1ms/step\n"
     ]
    }
   ],
   "source": [
    "# Extract the last layer of the model:\n",
    "\n",
    "model2 = Model(inputs=model1.input, outputs=model1.layers[-2].output)\n",
    "embed=model2(X_test)\n",
    "labels = np.argmax(model1.predict(X_test), axis=1)"
   ]
  },
  {
   "cell_type": "code",
   "execution_count": 27,
   "metadata": {},
   "outputs": [],
   "source": [
    "# Reduce the dimention using the TSNE algorithm\n",
    "tsne = TSNE(n_components=2).fit_transform(embed)"
   ]
  },
  {
   "cell_type": "code",
   "execution_count": 36,
   "metadata": {},
   "outputs": [
    {
     "data": {
      "image/png": "[encoded data removed]",
      "text/plain": [
       "<Figure size 432x288 with 1 Axes>"
      ]
     },
     "metadata": {},
     "output_type": "display_data"
    }
   ],
   "source": [
    "def scale_to_01_range(x):\n",
    "\n",
    "    value_range = (np.max(x) - np.min(x))\n",
    "    starts_from_zero = x - np.min(x)\n",
    "    return starts_from_zero / value_range\n",
    "\n",
    "tx = tsne[:, 0]\n",
    "ty = tsne[:, 1]\n",
    "\n",
    "tx = scale_to_01_range(tx)\n",
    "ty = scale_to_01_range(ty)\n",
    "\n",
    "colors = ['red', 'green','blue']\n",
    "fig = plt.figure()\n",
    "ax = fig.add_subplot(111)\n",
    "for idx, c in enumerate(colors):\n",
    "    indices = [i for i, l in enumerate(X_test) if idx == l[0]]\n",
    "    current_tx = np.take(tx, indices)\n",
    "    current_ty = np.take(ty, indices)\n",
    "    ax.scatter(current_tx, current_ty, c=c, label=idx)\n",
    "\n",
    "ax.legend(loc='best')\n",
    "plt.show()"
   ]
  },
  {
   "cell_type": "code",
   "execution_count": null,
   "metadata": {},
   "outputs": [],
   "source": []
  }
 ],
 "metadata": {
  "kernelspec": {
   "display_name": "Python 3",
   "language": "python",
   "name": "python3"
  },
  "language_info": {
   "codemirror_mode": {
    "name": "ipython",
    "version": 3
   },
   "file_extension": ".py",
   "mimetype": "text/x-python",
   "name": "python",
   "nbconvert_exporter": "python",
   "pygments_lexer": "ipython3",
   "version": "3.8.5"
  }
 },
 "nbformat": 4,
 "nbformat_minor": 4
}
