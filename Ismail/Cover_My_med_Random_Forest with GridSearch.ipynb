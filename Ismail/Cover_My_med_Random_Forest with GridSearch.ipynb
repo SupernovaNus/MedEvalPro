{
 "cells": [
  {
   "cell_type": "code",
   "execution_count": 32,
   "metadata": {},
   "outputs": [],
   "source": [
    "import pandas as pd\n",
    "import numpy as np\n",
    "import matplotlib.pyplot as plt\n",
    "import seaborn as sns\n",
    "from sklearn.metrics import accuracy_score,confusion_matrix, PrecisionRecallDisplay,precision_recall_curve\n",
    "\n",
    "sns.set_style(\"whitegrid\")"
   ]
  },
  {
   "cell_type": "code",
   "execution_count": 33,
   "metadata": {},
   "outputs": [],
   "source": [
    "# We import the dataframe with the 8 features we are considering\n",
    "PA_df=pd.read_csv(\"cover_my_med_df.csv\")"
   ]
  },
  {
   "cell_type": "code",
   "execution_count": 52,
   "metadata": {},
   "outputs": [],
   "source": [
    "# Cleaing the dataframe\n",
    "df=df.drop('Unnamed: 0',axis=1)"
   ]
  },
  {
   "cell_type": "code",
   "execution_count": 53,
   "metadata": {},
   "outputs": [],
   "source": [
    "# In case we want to restrict the date to a smaller set\n",
    "PA_df=PA_df[:20]"
   ]
  },
  {
   "cell_type": "code",
   "execution_count": 54,
   "metadata": {},
   "outputs": [],
   "source": [
    "# Extract the features\n",
    "features= PA_df.columns[:-1]"
   ]
  },
  {
   "cell_type": "code",
   "execution_count": 55,
   "metadata": {},
   "outputs": [],
   "source": [
    "## import train_test_split\n",
    "from sklearn.model_selection import train_test_split"
   ]
  },
  {
   "cell_type": "code",
   "execution_count": 56,
   "metadata": {},
   "outputs": [],
   "source": [
    "## Make a stratified train test split\n",
    "approval_train, approval_test = train_test_split(PA_df.copy(),\n",
    "                                              shuffle=True,\n",
    "                                              random_state=42,\n",
    "                                              test_size=.15,\n",
    "                                              stratify=PA_df.pa_approved.values)"
   ]
  },
  {
   "cell_type": "code",
   "execution_count": 57,
   "metadata": {},
   "outputs": [],
   "source": [
    "from sklearn.ensemble import RandomForestClassifier"
   ]
  },
  {
   "cell_type": "code",
   "execution_count": 58,
   "metadata": {},
   "outputs": [],
   "source": [
    "## import the correct kfold class\n",
    "from sklearn.model_selection import StratifiedKFold\n",
    "\n",
    "## import Pipeline and StandardScaler\n",
    "from sklearn.pipeline import Pipeline\n",
    "from sklearn.preprocessing import StandardScaler\n",
    "\n",
    "## import accuracy_score\n",
    "from sklearn.metrics import accuracy_score"
   ]
  },
  {
   "cell_type": "code",
   "execution_count": 59,
   "metadata": {},
   "outputs": [
    {
     "name": "stderr",
     "output_type": "stream",
     "text": [
      "/opt/anaconda3/lib/python3.8/site-packages/sklearn/model_selection/_split.py:670: UserWarning: The least populated class in y has only 6 members, which is less than n_splits=10.\n",
      "  warnings.warn((\"The least populated class in y has only %d\"\n"
     ]
    },
    {
     "name": "stdout",
     "output_type": "stream",
     "text": [
      "0 0 0\n",
      "0 0 1\n",
      "0 1 0\n",
      "0 1 1\n",
      "0 2 0\n",
      "0 2 1\n",
      "0 3 0\n",
      "0 3 1\n",
      "0 4 0\n",
      "0 4 1\n",
      "0 5 0\n",
      "0 5 1\n",
      "0 6 0\n",
      "0 6 1\n",
      "0 7 0\n",
      "0 7 1\n",
      "0 8 0\n",
      "0 8 1\n",
      "0 9 0\n",
      "0 9 1\n",
      "1 0 0\n",
      "1 0 1\n",
      "1 1 0\n",
      "1 1 1\n",
      "1 2 0\n",
      "1 2 1\n",
      "1 3 0\n",
      "1 3 1\n",
      "1 4 0\n",
      "1 4 1\n",
      "1 5 0\n",
      "1 5 1\n",
      "1 6 0\n",
      "1 6 1\n",
      "1 7 0\n",
      "1 7 1\n",
      "1 8 0\n",
      "1 8 1\n",
      "1 9 0\n",
      "1 9 1\n",
      "2 0 0\n",
      "2 0 1\n",
      "2 1 0\n",
      "2 1 1\n",
      "2 2 0\n",
      "2 2 1\n",
      "2 3 0\n",
      "2 3 1\n",
      "2 4 0\n",
      "2 4 1\n",
      "2 5 0\n",
      "2 5 1\n",
      "2 6 0\n",
      "2 6 1\n",
      "2 7 0\n",
      "2 7 1\n",
      "2 8 0\n",
      "2 8 1\n",
      "2 9 0\n",
      "2 9 1\n",
      "3 0 0\n",
      "3 0 1\n",
      "3 1 0\n",
      "3 1 1\n",
      "3 2 0\n",
      "3 2 1\n",
      "3 3 0\n",
      "3 3 1\n",
      "3 4 0\n",
      "3 4 1\n",
      "3 5 0\n",
      "3 5 1\n",
      "3 6 0\n",
      "3 6 1\n",
      "3 7 0\n",
      "3 7 1\n",
      "3 8 0\n",
      "3 8 1\n",
      "3 9 0\n",
      "3 9 1\n",
      "4 0 0\n",
      "4 0 1\n",
      "4 1 0\n",
      "4 1 1\n",
      "4 2 0\n",
      "4 2 1\n",
      "4 3 0\n",
      "4 3 1\n",
      "4 4 0\n",
      "4 4 1\n",
      "4 5 0\n",
      "4 5 1\n",
      "4 6 0\n",
      "4 6 1\n",
      "4 7 0\n",
      "4 7 1\n",
      "4 8 0\n",
      "4 8 1\n",
      "4 9 0\n",
      "4 9 1\n",
      "5 0 0\n",
      "5 0 1\n",
      "5 1 0\n",
      "5 1 1\n",
      "5 2 0\n",
      "5 2 1\n",
      "5 3 0\n",
      "5 3 1\n",
      "5 4 0\n",
      "5 4 1\n",
      "5 5 0\n",
      "5 5 1\n",
      "5 6 0\n",
      "5 6 1\n",
      "5 7 0\n",
      "5 7 1\n",
      "5 8 0\n",
      "5 8 1\n",
      "5 9 0\n",
      "5 9 1\n",
      "6 0 0\n",
      "6 0 1\n",
      "6 1 0\n",
      "6 1 1\n",
      "6 2 0\n",
      "6 2 1\n",
      "6 3 0\n",
      "6 3 1\n",
      "6 4 0\n",
      "6 4 1\n",
      "6 5 0\n",
      "6 5 1\n",
      "6 6 0\n",
      "6 6 1\n",
      "6 7 0\n",
      "6 7 1\n",
      "6 8 0\n",
      "6 8 1\n",
      "6 9 0\n",
      "6 9 1\n",
      "7 0 0\n",
      "7 0 1\n",
      "7 1 0\n",
      "7 1 1\n",
      "7 2 0\n",
      "7 2 1\n",
      "7 3 0\n",
      "7 3 1\n",
      "7 4 0\n",
      "7 4 1\n",
      "7 5 0\n",
      "7 5 1\n",
      "7 6 0\n",
      "7 6 1\n",
      "7 7 0\n",
      "7 7 1\n",
      "7 8 0\n",
      "7 8 1\n",
      "7 9 0\n",
      "7 9 1\n",
      "8 0 0\n",
      "8 0 1\n",
      "8 1 0\n",
      "8 1 1\n",
      "8 2 0\n",
      "8 2 1\n",
      "8 3 0\n",
      "8 3 1\n",
      "8 4 0\n",
      "8 4 1\n",
      "8 5 0\n",
      "8 5 1\n",
      "8 6 0\n",
      "8 6 1\n",
      "8 7 0\n",
      "8 7 1\n",
      "8 8 0\n",
      "8 8 1\n",
      "8 9 0\n",
      "8 9 1\n",
      "9 0 0\n",
      "9 0 1\n",
      "9 1 0\n",
      "9 1 1\n",
      "9 2 0\n",
      "9 2 1\n",
      "9 3 0\n",
      "9 3 1\n",
      "9 4 0\n",
      "9 4 1\n",
      "9 5 0\n",
      "9 5 1\n",
      "9 6 0\n",
      "9 6 1\n",
      "9 7 0\n",
      "9 7 1\n",
      "9 8 0\n",
      "9 8 1\n",
      "9 9 0\n",
      "9 9 1\n"
     ]
    }
   ],
   "source": [
    "max_depths = range(1, 11)\n",
    "n_trees = [100, 500]\n",
    "n_splits = 10\n",
    "kfold = StratifiedKFold(n_splits, random_state=403, shuffle=True)\n",
    "rf_accs = np.zeros((n_splits, len(max_depths), len(n_trees)))\n",
    "\n",
    "\n",
    "i = 0\n",
    "for train_index, test_index in kfold.split(approval_train, approval_train.pa_approved.values):\n",
    "    approval_tt = approval_train.iloc[train_index]\n",
    "    approval_ho = approval_train.iloc[test_index]\n",
    "    \n",
    "    j = 0\n",
    "    for max_depth in max_depths:\n",
    "        k = 0\n",
    "        for n_estimators in n_trees:\n",
    "            print(i,j,k)\n",
    "            rf = RandomForestClassifier(n_estimators = n_estimators,\n",
    "                                           max_depth = max_depth,\n",
    "                                           max_samples = int(.8*len(approval_tt)),\n",
    "                                           random_state = 403)\n",
    "            \n",
    "            rf.fit(approval_tt[features], approval_tt.pa_approved)\n",
    "            \n",
    "            pred = rf.predict(approval_ho[features])\n",
    "            \n",
    "            rf_accs[i,j,k] = accuracy_score(approval_ho.pa_approved,  pred)\n",
    "            k = k + 1\n",
    "        j = j + 1\n",
    "    i = i + 1"
   ]
  },
  {
   "cell_type": "code",
   "execution_count": 60,
   "metadata": {},
   "outputs": [],
   "source": [
    "## first import GridSearchCV\n",
    "\n",
    "from sklearn.model_selection import GridSearchCV"
   ]
  },
  {
   "cell_type": "code",
   "execution_count": 61,
   "metadata": {},
   "outputs": [
    {
     "name": "stderr",
     "output_type": "stream",
     "text": [
      "/opt/anaconda3/lib/python3.8/site-packages/sklearn/model_selection/_split.py:670: UserWarning: The least populated class in y has only 6 members, which is less than n_splits=10.\n",
      "  warnings.warn((\"The least populated class in y has only %d\"\n"
     ]
    },
    {
     "data": {
      "text/plain": [
       "GridSearchCV(cv=10, estimator=RandomForestClassifier(),\n",
       "             param_grid={'max_depth': range(1, 11), 'n_estimators': [100, 500]},\n",
       "             scoring='accuracy')"
      ]
     },
     "execution_count": 61,
     "metadata": {},
     "output_type": "execute_result"
    }
   ],
   "source": [
    "## This will also take about two minutes\n",
    "grid_cv = GridSearchCV(RandomForestClassifier(), # first put the model object here\n",
    "                          param_grid = {'max_depth':max_depths, # place the grid values for max_depth and\n",
    "                                        'n_estimators':n_trees}, # and n_estimators here\n",
    "                          scoring = 'accuracy', # put the metric we are trying to optimize here as a string, \"accuracy\"\n",
    "                          cv = 10) # put the number of cv splits here\n",
    "\n",
    "## you fit it just like a model\n",
    "grid_cv.fit(approval_tt[features], approval_tt.pa_approved)"
   ]
  },
  {
   "cell_type": "code",
   "execution_count": 62,
   "metadata": {},
   "outputs": [
    {
     "data": {
      "text/plain": [
       "{'max_depth': 2, 'n_estimators': 100}"
      ]
     },
     "execution_count": 62,
     "metadata": {},
     "output_type": "execute_result"
    }
   ],
   "source": [
    "# Print the model parameters\n",
    "grid_cv.best_params_"
   ]
  },
  {
   "cell_type": "code",
   "execution_count": 47,
   "metadata": {},
   "outputs": [
    {
     "data": {
      "text/plain": [
       "RandomForestClassifier(max_depth=1, n_estimators=500)"
      ]
     },
     "execution_count": 47,
     "metadata": {},
     "output_type": "execute_result"
    }
   ],
   "source": [
    "# Print the model estimator\n",
    "\n",
    "grid_cv.best_estimator_"
   ]
  },
  {
   "cell_type": "code",
   "execution_count": 51,
   "metadata": {},
   "outputs": [
    {
     "data": {
      "text/html": [
       "<div>\n",
       "<style scoped>\n",
       "    .dataframe tbody tr th:only-of-type {\n",
       "        vertical-align: middle;\n",
       "    }\n",
       "\n",
       "    .dataframe tbody tr th {\n",
       "        vertical-align: top;\n",
       "    }\n",
       "\n",
       "    .dataframe thead th {\n",
       "        text-align: right;\n",
       "    }\n",
       "</style>\n",
       "<table border=\"1\" class=\"dataframe\">\n",
       "  <thead>\n",
       "    <tr style=\"text-align: right;\">\n",
       "      <th></th>\n",
       "      <th>feature_importance_score</th>\n",
       "    </tr>\n",
       "  </thead>\n",
       "  <tbody>\n",
       "    <tr>\n",
       "      <th>Unnamed: 0</th>\n",
       "      <td>0.246988</td>\n",
       "    </tr>\n",
       "    <tr>\n",
       "      <th>rejected_code</th>\n",
       "      <td>0.232932</td>\n",
       "    </tr>\n",
       "    <tr>\n",
       "      <th>contraindication</th>\n",
       "      <td>0.210843</td>\n",
       "    </tr>\n",
       "    <tr>\n",
       "      <th>correct_diagnosis</th>\n",
       "      <td>0.184739</td>\n",
       "    </tr>\n",
       "    <tr>\n",
       "      <th>tried_and_failed</th>\n",
       "      <td>0.124498</td>\n",
       "    </tr>\n",
       "    <tr>\n",
       "      <th>drug_type</th>\n",
       "      <td>0.000000</td>\n",
       "    </tr>\n",
       "    <tr>\n",
       "      <th>is_holiday</th>\n",
       "      <td>0.000000</td>\n",
       "    </tr>\n",
       "    <tr>\n",
       "      <th>is_weekday</th>\n",
       "      <td>0.000000</td>\n",
       "    </tr>\n",
       "    <tr>\n",
       "      <th>is_workday</th>\n",
       "      <td>0.000000</td>\n",
       "    </tr>\n",
       "  </tbody>\n",
       "</table>\n",
       "</div>"
      ],
      "text/plain": [
       "                   feature_importance_score\n",
       "Unnamed: 0                         0.246988\n",
       "rejected_code                      0.232932\n",
       "contraindication                   0.210843\n",
       "correct_diagnosis                  0.184739\n",
       "tried_and_failed                   0.124498\n",
       "drug_type                          0.000000\n",
       "is_holiday                         0.000000\n",
       "is_weekday                         0.000000\n",
       "is_workday                         0.000000"
      ]
     },
     "execution_count": 51,
     "metadata": {},
     "output_type": "execute_result"
    }
   ],
   "source": [
    "# Print feature_importance_score\n",
    "\n",
    "pd.DataFrame({'feature_importance_score':grid_cv.best_estimator_.feature_importances_},\n",
    "                 index=features).sort_values('feature_importance_score',\n",
    "                                                ascending=False)"
   ]
  },
  {
   "cell_type": "code",
   "execution_count": null,
   "metadata": {},
   "outputs": [],
   "source": []
  }
 ],
 "metadata": {
  "kernelspec": {
   "display_name": "Python 3",
   "language": "python",
   "name": "python3"
  },
  "language_info": {
   "codemirror_mode": {
    "name": "ipython",
    "version": 3
   },
   "file_extension": ".py",
   "mimetype": "text/x-python",
   "name": "python",
   "nbconvert_exporter": "python",
   "pygments_lexer": "ipython3",
   "version": "3.8.5"
  }
 },
 "nbformat": 4,
 "nbformat_minor": 4
}
